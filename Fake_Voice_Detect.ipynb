{
 "cells": [
  {
   "cell_type": "markdown",
   "id": "a03a550d",
   "metadata": {},
   "source": [
    "# Fake Voice Identification"
   ]
  },
  {
   "cell_type": "code",
   "execution_count": 1,
   "id": "ece3287c",
   "metadata": {},
   "outputs": [],
   "source": [
    "import matplotlib.pyplot as plt\n",
    "import os\n",
    "from scipy.io import wavfile\n",
    "from scipy import signal\n",
    "import numpy as np\n",
    "import librosa\n",
    "import librosa.display\n",
    "import wave\n",
    "from sklearn.model_selection import train_test_split\n",
    "import tensorflow as tf\n",
    "from keras.utils import to_categorical\n",
    "import seaborn as sns"
   ]
  },
  {
   "cell_type": "markdown",
   "id": "32d939f3",
   "metadata": {},
   "source": [
    "## 1. Preprocessing"
   ]
  },
  {
   "cell_type": "code",
   "execution_count": 2,
   "id": "ce3b4192",
   "metadata": {},
   "outputs": [],
   "source": [
    "Folder_orig=\"Real-Time-Voice-Cloning-master/data_wav/Orignal\"\n",
    "Folder_fake=\"Real-Time-Voice-Cloning-master/data_wav/Fake\""
   ]
  },
  {
   "cell_type": "code",
   "execution_count": 3,
   "id": "6b193751",
   "metadata": {},
   "outputs": [
    {
     "name": "stderr",
     "output_type": "stream",
     "text": [
      "C:\\Users\\patel\\AppData\\Local\\Temp\\ipykernel_8052\\2981385946.py:8: FutureWarning: Pass y=[0.0000000e+00 0.0000000e+00 0.0000000e+00 ... 7.8553767e-06 2.2607655e-05\n",
      " 7.2404007e-05] as keyword args. From version 0.10 passing these as positional arguments will result in an error\n",
      "  mfcc = librosa.feature.mfcc(wav)\n",
      "C:\\Users\\patel\\AppData\\Local\\Temp\\ipykernel_8052\\2981385946.py:8: FutureWarning: Pass y=[0. 0. 0. ... 0. 0. 0.] as keyword args. From version 0.10 passing these as positional arguments will result in an error\n",
      "  mfcc = librosa.feature.mfcc(wav)\n",
      "C:\\Users\\patel\\AppData\\Local\\Temp\\ipykernel_8052\\2981385946.py:8: FutureWarning: Pass y=[ 0.0000000e+00  0.0000000e+00  0.0000000e+00 ...  3.3668297e-08\n",
      " -2.9206250e-08  2.4582576e-08] as keyword args. From version 0.10 passing these as positional arguments will result in an error\n",
      "  mfcc = librosa.feature.mfcc(wav)\n",
      "C:\\Users\\patel\\AppData\\Local\\Temp\\ipykernel_8052\\2981385946.py:8: FutureWarning: Pass y=[ 0.0000000e+00  0.0000000e+00  0.0000000e+00 ... -1.9526489e-05\n",
      " -1.3489855e-05  6.1355986e-06] as keyword args. From version 0.10 passing these as positional arguments will result in an error\n",
      "  mfcc = librosa.feature.mfcc(wav)\n",
      "C:\\Users\\patel\\AppData\\Local\\Temp\\ipykernel_8052\\2981385946.py:8: FutureWarning: Pass y=[ 0.0000000e+00  0.0000000e+00  0.0000000e+00 ... -2.6772765e-05\n",
      " -2.3694342e-05  0.0000000e+00] as keyword args. From version 0.10 passing these as positional arguments will result in an error\n",
      "  mfcc = librosa.feature.mfcc(wav)\n",
      "C:\\Users\\patel\\AppData\\Local\\Temp\\ipykernel_8052\\2981385946.py:8: FutureWarning: Pass y=[ 0.0000000e+00  0.0000000e+00  0.0000000e+00 ...  3.0192163e-05\n",
      " -4.9745409e-05 -7.9138154e-06] as keyword args. From version 0.10 passing these as positional arguments will result in an error\n",
      "  mfcc = librosa.feature.mfcc(wav)\n",
      "C:\\Users\\patel\\AppData\\Local\\Temp\\ipykernel_8052\\2981385946.py:8: FutureWarning: Pass y=[ 0.0000000e+00  0.0000000e+00  0.0000000e+00 ... -1.0407213e-07\n",
      "  9.1696833e-08  0.0000000e+00] as keyword args. From version 0.10 passing these as positional arguments will result in an error\n",
      "  mfcc = librosa.feature.mfcc(wav)\n",
      "C:\\Users\\patel\\AppData\\Local\\Temp\\ipykernel_8052\\2981385946.py:8: FutureWarning: Pass y=[0.000000e+00 0.000000e+00 0.000000e+00 ... 7.453951e-06 5.932896e-05\n",
      " 0.000000e+00] as keyword args. From version 0.10 passing these as positional arguments will result in an error\n",
      "  mfcc = librosa.feature.mfcc(wav)\n",
      "C:\\Users\\patel\\AppData\\Local\\Temp\\ipykernel_8052\\2981385946.py:8: FutureWarning: Pass y=[ 0.0000000e+00  0.0000000e+00  0.0000000e+00 ... -1.9889656e-05\n",
      " -5.1071693e-05 -5.7172128e-06] as keyword args. From version 0.10 passing these as positional arguments will result in an error\n",
      "  mfcc = librosa.feature.mfcc(wav)\n",
      "C:\\Users\\patel\\AppData\\Local\\Temp\\ipykernel_8052\\2981385946.py:8: FutureWarning: Pass y=[ 0.          0.          0.         ... -0.00036078 -0.00046102\n",
      "  0.        ] as keyword args. From version 0.10 passing these as positional arguments will result in an error\n",
      "  mfcc = librosa.feature.mfcc(wav)\n",
      "C:\\Users\\patel\\AppData\\Local\\Temp\\ipykernel_8052\\2981385946.py:8: FutureWarning: Pass y=[ 0.0000000e+00  0.0000000e+00  0.0000000e+00 ... -1.8483628e-07\n",
      "  1.5327142e-07  0.0000000e+00] as keyword args. From version 0.10 passing these as positional arguments will result in an error\n",
      "  mfcc = librosa.feature.mfcc(wav)\n",
      "C:\\Users\\patel\\AppData\\Local\\Temp\\ipykernel_8052\\2981385946.py:8: FutureWarning: Pass y=[ 0.0000000e+00  0.0000000e+00  0.0000000e+00 ... -9.1926914e-08\n",
      "  8.6213447e-08  0.0000000e+00] as keyword args. From version 0.10 passing these as positional arguments will result in an error\n",
      "  mfcc = librosa.feature.mfcc(wav)\n",
      "C:\\Users\\patel\\AppData\\Local\\Temp\\ipykernel_8052\\2981385946.py:8: FutureWarning: Pass y=[ 0.0000000e+00  0.0000000e+00  0.0000000e+00 ...  1.1157845e-06\n",
      " -9.9887461e-07  0.0000000e+00] as keyword args. From version 0.10 passing these as positional arguments will result in an error\n",
      "  mfcc = librosa.feature.mfcc(wav)\n",
      "C:\\Users\\patel\\AppData\\Local\\Temp\\ipykernel_8052\\2981385946.py:8: FutureWarning: Pass y=[ 0.0000000e+00  0.0000000e+00  0.0000000e+00 ...  1.3769883e-07\n",
      " -2.7887552e-07  3.7028457e-07] as keyword args. From version 0.10 passing these as positional arguments will result in an error\n",
      "  mfcc = librosa.feature.mfcc(wav)\n",
      "C:\\Users\\patel\\AppData\\Local\\Temp\\ipykernel_8052\\2981385946.py:8: FutureWarning: Pass y=[ 0.0000000e+00  0.0000000e+00  0.0000000e+00 ...  2.9405333e-05\n",
      " -3.3514377e-06  0.0000000e+00] as keyword args. From version 0.10 passing these as positional arguments will result in an error\n",
      "  mfcc = librosa.feature.mfcc(wav)\n",
      "C:\\Users\\patel\\AppData\\Local\\Temp\\ipykernel_8052\\2981385946.py:8: FutureWarning: Pass y=[ 0.000000e+00  0.000000e+00  0.000000e+00 ... -8.613286e-08  9.453325e-08\n",
      "  0.000000e+00] as keyword args. From version 0.10 passing these as positional arguments will result in an error\n",
      "  mfcc = librosa.feature.mfcc(wav)\n",
      "C:\\Users\\patel\\AppData\\Local\\Temp\\ipykernel_8052\\2981385946.py:8: FutureWarning: Pass y=[ 0.0000000e+00  0.0000000e+00  0.0000000e+00 ... -7.4733682e-05\n",
      "  2.3168825e-04  0.0000000e+00] as keyword args. From version 0.10 passing these as positional arguments will result in an error\n",
      "  mfcc = librosa.feature.mfcc(wav)\n",
      "C:\\Users\\patel\\AppData\\Local\\Temp\\ipykernel_8052\\2981385946.py:8: FutureWarning: Pass y=[ 0.0000000e+00  0.0000000e+00  0.0000000e+00 ... -1.1101227e-05\n",
      " -1.6199740e-05  2.8496799e-05] as keyword args. From version 0.10 passing these as positional arguments will result in an error\n",
      "  mfcc = librosa.feature.mfcc(wav)\n",
      "C:\\Users\\patel\\AppData\\Local\\Temp\\ipykernel_8052\\2981385946.py:8: FutureWarning: Pass y=[0.0000000e+00 0.0000000e+00 0.0000000e+00 ... 1.7486385e-05 3.2735985e-05\n",
      " 0.0000000e+00] as keyword args. From version 0.10 passing these as positional arguments will result in an error\n",
      "  mfcc = librosa.feature.mfcc(wav)\n",
      "C:\\Users\\patel\\AppData\\Local\\Temp\\ipykernel_8052\\2981385946.py:8: FutureWarning: Pass y=[ 0.0000000e+00  0.0000000e+00  0.0000000e+00 ...  2.5684474e-07\n",
      " -2.0693685e-07  0.0000000e+00] as keyword args. From version 0.10 passing these as positional arguments will result in an error\n",
      "  mfcc = librosa.feature.mfcc(wav)\n",
      "C:\\Users\\patel\\AppData\\Local\\Temp\\ipykernel_8052\\2981385946.py:8: FutureWarning: Pass y=[ 0.0000000e+00  0.0000000e+00  0.0000000e+00 ... -1.1028226e-08\n",
      "  1.2304410e-08 -1.2635710e-08] as keyword args. From version 0.10 passing these as positional arguments will result in an error\n",
      "  mfcc = librosa.feature.mfcc(wav)\n",
      "C:\\Users\\patel\\AppData\\Local\\Temp\\ipykernel_8052\\2981385946.py:8: FutureWarning: Pass y=[0.         0.         0.         ... 0.00152362 0.00138755 0.        ] as keyword args. From version 0.10 passing these as positional arguments will result in an error\n",
      "  mfcc = librosa.feature.mfcc(wav)\n",
      "C:\\Users\\patel\\AppData\\Local\\Temp\\ipykernel_8052\\2981385946.py:8: FutureWarning: Pass y=[ 0.0000000e+00  0.0000000e+00  0.0000000e+00 ... -2.3339690e-06\n",
      "  1.5177803e-06 -1.1901477e-06] as keyword args. From version 0.10 passing these as positional arguments will result in an error\n",
      "  mfcc = librosa.feature.mfcc(wav)\n",
      "C:\\Users\\patel\\AppData\\Local\\Temp\\ipykernel_8052\\2981385946.py:8: FutureWarning: Pass y=[ 0.0000000e+00  0.0000000e+00  0.0000000e+00 ... -9.3486506e-08\n",
      "  7.5015670e-08 -5.8030260e-08] as keyword args. From version 0.10 passing these as positional arguments will result in an error\n",
      "  mfcc = librosa.feature.mfcc(wav)\n",
      "C:\\Users\\patel\\AppData\\Local\\Temp\\ipykernel_8052\\2981385946.py:8: FutureWarning: Pass y=[ 0.0000000e+00  0.0000000e+00  0.0000000e+00 ... -2.4298273e-05\n",
      "  4.0385021e-05 -4.0423647e-06] as keyword args. From version 0.10 passing these as positional arguments will result in an error\n",
      "  mfcc = librosa.feature.mfcc(wav)\n",
      "C:\\Users\\patel\\AppData\\Local\\Temp\\ipykernel_8052\\2981385946.py:8: FutureWarning: Pass y=[ 0.0000000e+00  0.0000000e+00  0.0000000e+00 ... -3.0727518e-09\n",
      "  2.1470925e-09  0.0000000e+00] as keyword args. From version 0.10 passing these as positional arguments will result in an error\n",
      "  mfcc = librosa.feature.mfcc(wav)\n",
      "C:\\Users\\patel\\AppData\\Local\\Temp\\ipykernel_8052\\2981385946.py:8: FutureWarning: Pass y=[0.000000e+00 0.000000e+00 0.000000e+00 ... 3.826666e-06 3.647473e-05\n",
      " 0.000000e+00] as keyword args. From version 0.10 passing these as positional arguments will result in an error\n",
      "  mfcc = librosa.feature.mfcc(wav)\n",
      "C:\\Users\\patel\\AppData\\Local\\Temp\\ipykernel_8052\\2981385946.py:8: FutureWarning: Pass y=[ 0.          0.          0.         ... -0.00039941 -0.0006465\n",
      "  0.        ] as keyword args. From version 0.10 passing these as positional arguments will result in an error\n",
      "  mfcc = librosa.feature.mfcc(wav)\n"
     ]
    },
    {
     "name": "stderr",
     "output_type": "stream",
     "text": [
      "C:\\Users\\patel\\AppData\\Local\\Temp\\ipykernel_8052\\2981385946.py:8: FutureWarning: Pass y=[ 0.0000000e+00  0.0000000e+00  0.0000000e+00 ...  4.0265295e-12\n",
      " -2.8869971e-12  1.7214348e-12] as keyword args. From version 0.10 passing these as positional arguments will result in an error\n",
      "  mfcc = librosa.feature.mfcc(wav)\n",
      "C:\\Users\\patel\\AppData\\Local\\Temp\\ipykernel_8052\\2981385946.py:8: FutureWarning: Pass y=[ 0.0000000e+00  0.0000000e+00  0.0000000e+00 ...  3.5177572e-07\n",
      " -3.5396377e-07  0.0000000e+00] as keyword args. From version 0.10 passing these as positional arguments will result in an error\n",
      "  mfcc = librosa.feature.mfcc(wav)\n",
      "C:\\Users\\patel\\AppData\\Local\\Temp\\ipykernel_8052\\2981385946.py:8: FutureWarning: Pass y=[ 0.0000000e+00  0.0000000e+00  0.0000000e+00 ... -2.9102754e-04\n",
      "  1.8033350e-05  0.0000000e+00] as keyword args. From version 0.10 passing these as positional arguments will result in an error\n",
      "  mfcc = librosa.feature.mfcc(wav)\n",
      "C:\\Users\\patel\\AppData\\Local\\Temp\\ipykernel_8052\\2981385946.py:8: FutureWarning: Pass y=[ 0.          0.          0.         ...  0.00034478 -0.00029068\n",
      "  0.        ] as keyword args. From version 0.10 passing these as positional arguments will result in an error\n",
      "  mfcc = librosa.feature.mfcc(wav)\n",
      "C:\\Users\\patel\\AppData\\Local\\Temp\\ipykernel_8052\\2981385946.py:8: FutureWarning: Pass y=[0.         0.         0.         ... 0.00128936 0.00158007 0.        ] as keyword args. From version 0.10 passing these as positional arguments will result in an error\n",
      "  mfcc = librosa.feature.mfcc(wav)\n",
      "C:\\Users\\patel\\AppData\\Local\\Temp\\ipykernel_8052\\2981385946.py:8: FutureWarning: Pass y=[ 0.0000000e+00  0.0000000e+00  0.0000000e+00 ... -3.3757741e-09\n",
      "  2.4119429e-09  0.0000000e+00] as keyword args. From version 0.10 passing these as positional arguments will result in an error\n",
      "  mfcc = librosa.feature.mfcc(wav)\n",
      "C:\\Users\\patel\\AppData\\Local\\Temp\\ipykernel_8052\\2981385946.py:8: FutureWarning: Pass y=[ 0.0000000e+00  0.0000000e+00  0.0000000e+00 ... -7.9184794e-08\n",
      "  6.9665873e-08  0.0000000e+00] as keyword args. From version 0.10 passing these as positional arguments will result in an error\n",
      "  mfcc = librosa.feature.mfcc(wav)\n",
      "C:\\Users\\patel\\AppData\\Local\\Temp\\ipykernel_8052\\2981385946.py:8: FutureWarning: Pass y=[ 0.0000000e+00  0.0000000e+00  0.0000000e+00 ...  1.8401752e-05\n",
      " -4.5433403e-06 -2.4079367e-05] as keyword args. From version 0.10 passing these as positional arguments will result in an error\n",
      "  mfcc = librosa.feature.mfcc(wav)\n",
      "C:\\Users\\patel\\AppData\\Local\\Temp\\ipykernel_8052\\2981385946.py:8: FutureWarning: Pass y=[ 0.000000e+00  0.000000e+00  0.000000e+00 ... -9.527925e-06  6.410683e-05\n",
      "  0.000000e+00] as keyword args. From version 0.10 passing these as positional arguments will result in an error\n",
      "  mfcc = librosa.feature.mfcc(wav)\n",
      "C:\\Users\\patel\\AppData\\Local\\Temp\\ipykernel_8052\\2981385946.py:8: FutureWarning: Pass y=[ 0.0000000e+00  0.0000000e+00  0.0000000e+00 ...  1.7073873e-07\n",
      " -2.2258855e-07  0.0000000e+00] as keyword args. From version 0.10 passing these as positional arguments will result in an error\n",
      "  mfcc = librosa.feature.mfcc(wav)\n",
      "C:\\Users\\patel\\AppData\\Local\\Temp\\ipykernel_8052\\2981385946.py:8: FutureWarning: Pass y=[ 0.0000000e+00  0.0000000e+00  0.0000000e+00 ... -1.6341151e-07\n",
      " -1.7707382e-07  0.0000000e+00] as keyword args. From version 0.10 passing these as positional arguments will result in an error\n",
      "  mfcc = librosa.feature.mfcc(wav)\n",
      "C:\\Users\\patel\\AppData\\Local\\Temp\\ipykernel_8052\\2981385946.py:8: FutureWarning: Pass y=[ 0.0000000e+00  0.0000000e+00  0.0000000e+00 ...  2.4282417e-05\n",
      " -2.5301474e-06  1.2127109e-06] as keyword args. From version 0.10 passing these as positional arguments will result in an error\n",
      "  mfcc = librosa.feature.mfcc(wav)\n",
      "C:\\Users\\patel\\AppData\\Local\\Temp\\ipykernel_8052\\2981385946.py:8: FutureWarning: Pass y=[ 0.0000000e+00  0.0000000e+00  0.0000000e+00 ...  1.1658099e-05\n",
      " -3.0499010e-05  0.0000000e+00] as keyword args. From version 0.10 passing these as positional arguments will result in an error\n",
      "  mfcc = librosa.feature.mfcc(wav)\n",
      "C:\\Users\\patel\\AppData\\Local\\Temp\\ipykernel_8052\\2981385946.py:8: FutureWarning: Pass y=[ 0.0000000e+00  0.0000000e+00  0.0000000e+00 ...  1.5550231e-07\n",
      " -1.3487727e-07  0.0000000e+00] as keyword args. From version 0.10 passing these as positional arguments will result in an error\n",
      "  mfcc = librosa.feature.mfcc(wav)\n",
      "C:\\Users\\patel\\AppData\\Local\\Temp\\ipykernel_8052\\2981385946.py:8: FutureWarning: Pass y=[ 0.0000000e+00  0.0000000e+00  0.0000000e+00 ... -3.9600098e-05\n",
      " -4.4109656e-05  0.0000000e+00] as keyword args. From version 0.10 passing these as positional arguments will result in an error\n",
      "  mfcc = librosa.feature.mfcc(wav)\n",
      "C:\\Users\\patel\\AppData\\Local\\Temp\\ipykernel_8052\\2981385946.py:8: FutureWarning: Pass y=[ 0.0000000e+00  0.0000000e+00  0.0000000e+00 ...  1.0396346e-07\n",
      " -2.7358467e-07  3.8843700e-07] as keyword args. From version 0.10 passing these as positional arguments will result in an error\n",
      "  mfcc = librosa.feature.mfcc(wav)\n",
      "C:\\Users\\patel\\AppData\\Local\\Temp\\ipykernel_8052\\2981385946.py:8: FutureWarning: Pass y=[ 0.0000000e+00  0.0000000e+00  0.0000000e+00 ...  5.3918803e-09\n",
      " -1.9344666e-08  0.0000000e+00] as keyword args. From version 0.10 passing these as positional arguments will result in an error\n",
      "  mfcc = librosa.feature.mfcc(wav)\n",
      "C:\\Users\\patel\\AppData\\Local\\Temp\\ipykernel_8052\\2981385946.py:8: FutureWarning: Pass y=[ 0.000000e+00  0.000000e+00  0.000000e+00 ...  4.514831e-07 -5.577437e-08\n",
      "  0.000000e+00] as keyword args. From version 0.10 passing these as positional arguments will result in an error\n",
      "  mfcc = librosa.feature.mfcc(wav)\n",
      "C:\\Users\\patel\\AppData\\Local\\Temp\\ipykernel_8052\\2981385946.py:8: FutureWarning: Pass y=[ 0.0000000e+00  0.0000000e+00  0.0000000e+00 ... -2.5719123e-06\n",
      "  3.7753894e-06 -1.0181938e-05] as keyword args. From version 0.10 passing these as positional arguments will result in an error\n",
      "  mfcc = librosa.feature.mfcc(wav)\n",
      "C:\\Users\\patel\\AppData\\Local\\Temp\\ipykernel_8052\\2981385946.py:8: FutureWarning: Pass y=[ 0.0000000e+00  0.0000000e+00  0.0000000e+00 ... -1.6847937e-07\n",
      "  1.4311733e-07 -1.1753760e-07] as keyword args. From version 0.10 passing these as positional arguments will result in an error\n",
      "  mfcc = librosa.feature.mfcc(wav)\n",
      "C:\\Users\\patel\\AppData\\Local\\Temp\\ipykernel_8052\\2981385946.py:8: FutureWarning: Pass y=[ 0.0000000e+00  0.0000000e+00  0.0000000e+00 ... -1.8499711e-12\n",
      " -1.7946518e-13  6.7450489e-13] as keyword args. From version 0.10 passing these as positional arguments will result in an error\n",
      "  mfcc = librosa.feature.mfcc(wav)\n",
      "C:\\Users\\patel\\AppData\\Local\\Temp\\ipykernel_8052\\2981385946.py:8: FutureWarning: Pass y=[0.0000000e+00 0.0000000e+00 0.0000000e+00 ... 2.7882586e-05 3.5665271e-05\n",
      " 9.1944967e-06] as keyword args. From version 0.10 passing these as positional arguments will result in an error\n",
      "  mfcc = librosa.feature.mfcc(wav)\n",
      "C:\\Users\\patel\\AppData\\Local\\Temp\\ipykernel_8052\\2981385946.py:8: FutureWarning: Pass y=[ 0.0000000e+00  0.0000000e+00  0.0000000e+00 ...  4.1534677e-05\n",
      "  2.8251065e-04 -1.0029005e-03] as keyword args. From version 0.10 passing these as positional arguments will result in an error\n",
      "  mfcc = librosa.feature.mfcc(wav)\n",
      "C:\\Users\\patel\\AppData\\Local\\Temp\\ipykernel_8052\\2981385946.py:17: FutureWarning: Pass y=[0. 0. 0. ... 0. 0. 0.] as keyword args. From version 0.10 passing these as positional arguments will result in an error\n",
      "  mfcc = librosa.feature.mfcc(wav)\n"
     ]
    }
   ],
   "source": [
    "X=[]\n",
    "Y=[]\n",
    "\n",
    "pad2d = lambda a, i: a[:, 0: i] if a.shape[1] > i else np.hstack((a, np.zeros((a.shape[0],i - a.shape[1]))))\n",
    "#\n",
    "for flist in os.listdir(Folder_orig):\n",
    "    wav, sr = librosa.load(os.path.join(Folder_orig , flist))\n",
    "    mfcc = librosa.feature.mfcc(wav)\n",
    "    padded_mfcc = pad2d(mfcc,40)\n",
    "    \n",
    "    X.append(padded_mfcc)\n",
    "    Y.append(0)\n",
    "\n",
    "#\n",
    "for flist in os.listdir(Folder_fake):\n",
    "    wav, sr = librosa.load(os.path.join(Folder_fake , flist))\n",
    "    mfcc = librosa.feature.mfcc(wav)\n",
    "    padded_mfcc = pad2d(mfcc,40)\n",
    "    \n",
    "    X.append(padded_mfcc)\n",
    "    Y.append(1)\n"
   ]
  },
  {
   "cell_type": "code",
   "execution_count": 4,
   "id": "6e6bde8c",
   "metadata": {},
   "outputs": [],
   "source": [
    "X_train, X_test, y_train, y_test = train_test_split(X, Y, test_size=0.33, random_state=42)\n",
    "X_train=np.array(X_train)\n",
    "y_train=to_categorical(np.array(y_train))\n",
    "X_test=np.array(X_test)\n",
    "y_test=to_categorical(np.array(y_test))\n",
    "\n",
    "X_train_ex = np.expand_dims(X_train, -1)\n",
    "X_test_ex = np.expand_dims(X_test, -1)"
   ]
  },
  {
   "cell_type": "markdown",
   "id": "c73ef3ce",
   "metadata": {},
   "source": [
    "## 2. Deep neural network"
   ]
  },
  {
   "cell_type": "code",
   "execution_count": 5,
   "id": "9c8ad573",
   "metadata": {},
   "outputs": [],
   "source": [
    "ip = tf.keras.layers.Input(shape=X_train_ex[0].shape)\n",
    "\n",
    "m = tf.keras.layers.Conv2D(256, kernel_size=(4, 4), activation='relu')(ip)\n",
    "m = tf.keras.layers.MaxPooling2D(pool_size=(4, 4))(m)\n",
    "m= tf.keras.layers.BatchNormalization()(m)\n",
    "m = tf.keras.layers.Dropout(0.2)(m)\n",
    "m = tf.keras.layers.Flatten()(m)\n",
    "m = tf.keras.layers.Dense(64, activation='relu')(m)\n",
    "m = tf.keras.layers.Dense(32, activation='relu')(m)\n",
    "op = tf.keras.layers.Dense(2, activation='softmax')(m)\n",
    "model = tf.keras.Model(inputs=ip, outputs=op)\n",
    "checkpoint_path = \"cp.ckpt\"\n",
    "# Create a callback that saves the model's weights\n",
    "cp_callback = tf.keras.callbacks.ModelCheckpoint(filepath=checkpoint_path, save_best_only=True, mode='max', monitor='val_accuracy', verbose=1)"
   ]
  },
  {
   "cell_type": "code",
   "execution_count": 6,
   "id": "24b82e46",
   "metadata": {},
   "outputs": [
    {
     "name": "stdout",
     "output_type": "stream",
     "text": [
      "Epoch 1/100\n",
      "3/5 [=================>............] - ETA: 0s - loss: 0.4207 - accuracy: 0.7604\n",
      "Epoch 1: val_accuracy improved from -inf to 0.74648, saving model to cp.ckpt\n"
     ]
    },
    {
     "name": "stderr",
     "output_type": "stream",
     "text": [
      "WARNING:absl:Found untraced functions such as _jit_compiled_convolution_op while saving (showing 1 of 1). These functions will not be directly callable after loading.\n"
     ]
    },
    {
     "name": "stdout",
     "output_type": "stream",
     "text": [
      "INFO:tensorflow:Assets written to: cp.ckpt\\assets\n"
     ]
    },
    {
     "name": "stderr",
     "output_type": "stream",
     "text": [
      "INFO:tensorflow:Assets written to: cp.ckpt\\assets\n"
     ]
    },
    {
     "name": "stdout",
     "output_type": "stream",
     "text": [
      "5/5 [==============================] - 2s 445ms/step - loss: 0.3619 - accuracy: 0.8333 - val_loss: 5.6667 - val_accuracy: 0.7465\n",
      "Epoch 2/100\n",
      "5/5 [==============================] - ETA: 0s - loss: 0.1755 - accuracy: 0.9792  \n",
      "Epoch 2: val_accuracy improved from 0.74648 to 0.87324, saving model to cp.ckpt\n"
     ]
    },
    {
     "name": "stderr",
     "output_type": "stream",
     "text": [
      "WARNING:absl:Found untraced functions such as _jit_compiled_convolution_op while saving (showing 1 of 1). These functions will not be directly callable after loading.\n"
     ]
    },
    {
     "name": "stdout",
     "output_type": "stream",
     "text": [
      "INFO:tensorflow:Assets written to: cp.ckpt\\assets\n"
     ]
    },
    {
     "name": "stderr",
     "output_type": "stream",
     "text": [
      "INFO:tensorflow:Assets written to: cp.ckpt\\assets\n"
     ]
    },
    {
     "name": "stdout",
     "output_type": "stream",
     "text": [
      "5/5 [==============================] - 1s 352ms/step - loss: 0.1755 - accuracy: 0.9792 - val_loss: 1.9805 - val_accuracy: 0.8732\n",
      "Epoch 3/100\n",
      "5/5 [==============================] - ETA: 0s - loss: 0.7372 - accuracy: 0.8542\n",
      "Epoch 3: val_accuracy did not improve from 0.87324\n",
      "5/5 [==============================] - 0s 44ms/step - loss: 0.7372 - accuracy: 0.8542 - val_loss: 6.1406 - val_accuracy: 0.6901\n",
      "Epoch 4/100\n",
      "5/5 [==============================] - ETA: 0s - loss: 1.0467 - accuracy: 0.9028\n",
      "Epoch 4: val_accuracy did not improve from 0.87324\n",
      "5/5 [==============================] - 0s 44ms/step - loss: 1.0467 - accuracy: 0.9028 - val_loss: 3.2539 - val_accuracy: 0.8310\n",
      "Epoch 5/100\n",
      "5/5 [==============================] - ETA: 0s - loss: 0.0220 - accuracy: 0.9931\n",
      "Epoch 5: val_accuracy improved from 0.87324 to 0.88732, saving model to cp.ckpt\n"
     ]
    },
    {
     "name": "stderr",
     "output_type": "stream",
     "text": [
      "WARNING:absl:Found untraced functions such as _jit_compiled_convolution_op while saving (showing 1 of 1). These functions will not be directly callable after loading.\n"
     ]
    },
    {
     "name": "stdout",
     "output_type": "stream",
     "text": [
      "INFO:tensorflow:Assets written to: cp.ckpt\\assets\n"
     ]
    },
    {
     "name": "stderr",
     "output_type": "stream",
     "text": [
      "INFO:tensorflow:Assets written to: cp.ckpt\\assets\n"
     ]
    },
    {
     "name": "stdout",
     "output_type": "stream",
     "text": [
      "5/5 [==============================] - 1s 349ms/step - loss: 0.0220 - accuracy: 0.9931 - val_loss: 1.8854 - val_accuracy: 0.8873\n",
      "Epoch 6/100\n",
      "5/5 [==============================] - ETA: 0s - loss: 0.1020 - accuracy: 0.9722  \n",
      "Epoch 6: val_accuracy did not improve from 0.88732\n",
      "5/5 [==============================] - 0s 45ms/step - loss: 0.1020 - accuracy: 0.9722 - val_loss: 2.1050 - val_accuracy: 0.8873\n",
      "Epoch 7/100\n",
      "5/5 [==============================] - ETA: 0s - loss: 3.0921e-04 - accuracy: 1.0000\n",
      "Epoch 7: val_accuracy did not improve from 0.88732\n",
      "5/5 [==============================] - 0s 44ms/step - loss: 3.0921e-04 - accuracy: 1.0000 - val_loss: 2.7181 - val_accuracy: 0.8732\n",
      "Epoch 8/100\n",
      "5/5 [==============================] - ETA: 0s - loss: 0.0269 - accuracy: 0.9861  \n",
      "Epoch 8: val_accuracy did not improve from 0.88732\n",
      "5/5 [==============================] - 0s 45ms/step - loss: 0.0269 - accuracy: 0.9861 - val_loss: 2.4886 - val_accuracy: 0.8732\n",
      "Epoch 9/100\n",
      "5/5 [==============================] - ETA: 0s - loss: 5.5568e-05 - accuracy: 1.0000\n",
      "Epoch 9: val_accuracy did not improve from 0.88732\n",
      "5/5 [==============================] - 0s 44ms/step - loss: 5.5568e-05 - accuracy: 1.0000 - val_loss: 2.1534 - val_accuracy: 0.8873\n",
      "Epoch 10/100\n",
      "5/5 [==============================] - ETA: 0s - loss: 1.2711e-04 - accuracy: 1.0000\n",
      "Epoch 10: val_accuracy did not improve from 0.88732\n",
      "5/5 [==============================] - 0s 49ms/step - loss: 1.2711e-04 - accuracy: 1.0000 - val_loss: 1.9010 - val_accuracy: 0.8873\n",
      "Epoch 11/100\n",
      "3/5 [=================>............] - ETA: 0s - loss: 6.2410e-05 - accuracy: 1.0000\n",
      "Epoch 11: val_accuracy did not improve from 0.88732\n",
      "5/5 [==============================] - 0s 40ms/step - loss: 4.1698e-05 - accuracy: 1.0000 - val_loss: 1.6889 - val_accuracy: 0.8873\n",
      "Epoch 12/100\n",
      "5/5 [==============================] - ETA: 0s - loss: 3.9508e-06 - accuracy: 1.0000\n",
      "Epoch 12: val_accuracy did not improve from 0.88732\n",
      "5/5 [==============================] - 0s 43ms/step - loss: 3.9508e-06 - accuracy: 1.0000 - val_loss: 1.4995 - val_accuracy: 0.8873\n",
      "Epoch 13/100\n",
      "5/5 [==============================] - ETA: 0s - loss: 1.2700e-05 - accuracy: 1.0000\n",
      "Epoch 13: val_accuracy did not improve from 0.88732\n",
      "5/5 [==============================] - 0s 47ms/step - loss: 1.2700e-05 - accuracy: 1.0000 - val_loss: 1.3307 - val_accuracy: 0.8873\n",
      "Epoch 14/100\n",
      "5/5 [==============================] - ETA: 0s - loss: 9.7355e-06 - accuracy: 1.0000\n",
      "Epoch 14: val_accuracy improved from 0.88732 to 0.90141, saving model to cp.ckpt\n"
     ]
    },
    {
     "name": "stderr",
     "output_type": "stream",
     "text": [
      "WARNING:absl:Found untraced functions such as _jit_compiled_convolution_op while saving (showing 1 of 1). These functions will not be directly callable after loading.\n"
     ]
    },
    {
     "name": "stdout",
     "output_type": "stream",
     "text": [
      "INFO:tensorflow:Assets written to: cp.ckpt\\assets\n"
     ]
    },
    {
     "name": "stderr",
     "output_type": "stream",
     "text": [
      "INFO:tensorflow:Assets written to: cp.ckpt\\assets\n"
     ]
    },
    {
     "name": "stdout",
     "output_type": "stream",
     "text": [
      "5/5 [==============================] - 1s 346ms/step - loss: 9.7355e-06 - accuracy: 1.0000 - val_loss: 1.1789 - val_accuracy: 0.9014\n",
      "Epoch 15/100\n",
      "5/5 [==============================] - ETA: 0s - loss: 1.4833e-04 - accuracy: 1.0000\n",
      "Epoch 15: val_accuracy did not improve from 0.90141\n",
      "5/5 [==============================] - 0s 43ms/step - loss: 1.4833e-04 - accuracy: 1.0000 - val_loss: 1.0489 - val_accuracy: 0.9014\n",
      "Epoch 16/100\n",
      "5/5 [==============================] - ETA: 0s - loss: 3.1279e-05 - accuracy: 1.0000\n",
      "Epoch 16: val_accuracy did not improve from 0.90141\n",
      "5/5 [==============================] - 0s 42ms/step - loss: 3.1279e-05 - accuracy: 1.0000 - val_loss: 0.9383 - val_accuracy: 0.9014\n",
      "Epoch 17/100\n",
      "5/5 [==============================] - ETA: 0s - loss: 2.4213e-06 - accuracy: 1.0000\n",
      "Epoch 17: val_accuracy did not improve from 0.90141\n",
      "5/5 [==============================] - 0s 42ms/step - loss: 2.4213e-06 - accuracy: 1.0000 - val_loss: 0.8396 - val_accuracy: 0.9014\n",
      "Epoch 18/100\n",
      "3/5 [=================>............] - ETA: 0s - loss: 8.0125e-06 - accuracy: 1.0000\n",
      "Epoch 18: val_accuracy did not improve from 0.90141\n",
      "5/5 [==============================] - 0s 39ms/step - loss: 8.5888e-06 - accuracy: 1.0000 - val_loss: 0.7500 - val_accuracy: 0.9014\n",
      "Epoch 19/100\n",
      "3/5 [=================>............] - ETA: 0s - loss: 3.9022e-06 - accuracy: 1.0000\n",
      "Epoch 19: val_accuracy improved from 0.90141 to 0.91549, saving model to cp.ckpt\n"
     ]
    },
    {
     "name": "stderr",
     "output_type": "stream",
     "text": [
      "WARNING:absl:Found untraced functions such as _jit_compiled_convolution_op while saving (showing 1 of 1). These functions will not be directly callable after loading.\n"
     ]
    },
    {
     "name": "stdout",
     "output_type": "stream",
     "text": [
      "INFO:tensorflow:Assets written to: cp.ckpt\\assets\n"
     ]
    },
    {
     "name": "stderr",
     "output_type": "stream",
     "text": [
      "INFO:tensorflow:Assets written to: cp.ckpt\\assets\n"
     ]
    },
    {
     "name": "stdout",
     "output_type": "stream",
     "text": [
      "5/5 [==============================] - 1s 305ms/step - loss: 2.7720e-06 - accuracy: 1.0000 - val_loss: 0.6688 - val_accuracy: 0.9155\n",
      "Epoch 20/100\n",
      "5/5 [==============================] - ETA: 0s - loss: 8.8246e-06 - accuracy: 1.0000\n",
      "Epoch 20: val_accuracy did not improve from 0.91549\n",
      "5/5 [==============================] - 0s 44ms/step - loss: 8.8246e-06 - accuracy: 1.0000 - val_loss: 0.6067 - val_accuracy: 0.9155\n",
      "Epoch 21/100\n",
      "3/5 [=================>............] - ETA: 0s - loss: 3.7149e-06 - accuracy: 1.0000\n",
      "Epoch 21: val_accuracy did not improve from 0.91549\n",
      "5/5 [==============================] - 0s 40ms/step - loss: 2.8061e-06 - accuracy: 1.0000 - val_loss: 0.5572 - val_accuracy: 0.9155\n",
      "Epoch 22/100\n",
      "5/5 [==============================] - ETA: 0s - loss: 4.0918e-05 - accuracy: 1.0000\n",
      "Epoch 22: val_accuracy did not improve from 0.91549\n",
      "5/5 [==============================] - 0s 40ms/step - loss: 4.0918e-05 - accuracy: 1.0000 - val_loss: 0.5148 - val_accuracy: 0.9155\n",
      "Epoch 23/100\n",
      "3/5 [=================>............] - ETA: 0s - loss: 3.0531e-06 - accuracy: 1.0000\n",
      "Epoch 23: val_accuracy did not improve from 0.91549\n",
      "5/5 [==============================] - 0s 40ms/step - loss: 1.2388e-04 - accuracy: 1.0000 - val_loss: 0.4831 - val_accuracy: 0.9155\n",
      "Epoch 24/100\n",
      "5/5 [==============================] - ETA: 0s - loss: 2.8202e-06 - accuracy: 1.0000\n",
      "Epoch 24: val_accuracy improved from 0.91549 to 0.94366, saving model to cp.ckpt\n"
     ]
    },
    {
     "name": "stderr",
     "output_type": "stream",
     "text": [
      "WARNING:absl:Found untraced functions such as _jit_compiled_convolution_op while saving (showing 1 of 1). These functions will not be directly callable after loading.\n"
     ]
    },
    {
     "name": "stdout",
     "output_type": "stream",
     "text": [
      "INFO:tensorflow:Assets written to: cp.ckpt\\assets\n"
     ]
    },
    {
     "name": "stderr",
     "output_type": "stream",
     "text": [
      "INFO:tensorflow:Assets written to: cp.ckpt\\assets\n"
     ]
    },
    {
     "name": "stdout",
     "output_type": "stream",
     "text": [
      "5/5 [==============================] - 1s 312ms/step - loss: 2.8202e-06 - accuracy: 1.0000 - val_loss: 0.4443 - val_accuracy: 0.9437\n",
      "Epoch 25/100\n",
      "3/5 [=================>............] - ETA: 0s - loss: 2.6994e-06 - accuracy: 1.0000\n",
      "Epoch 25: val_accuracy improved from 0.94366 to 0.95775, saving model to cp.ckpt\n"
     ]
    },
    {
     "name": "stderr",
     "output_type": "stream",
     "text": [
      "WARNING:absl:Found untraced functions such as _jit_compiled_convolution_op while saving (showing 1 of 1). These functions will not be directly callable after loading.\n"
     ]
    },
    {
     "name": "stdout",
     "output_type": "stream",
     "text": [
      "INFO:tensorflow:Assets written to: cp.ckpt\\assets\n"
     ]
    },
    {
     "name": "stderr",
     "output_type": "stream",
     "text": [
      "INFO:tensorflow:Assets written to: cp.ckpt\\assets\n"
     ]
    },
    {
     "name": "stdout",
     "output_type": "stream",
     "text": [
      "5/5 [==============================] - 1s 299ms/step - loss: 1.7996e-06 - accuracy: 1.0000 - val_loss: 0.4155 - val_accuracy: 0.9577\n",
      "Epoch 26/100\n",
      "5/5 [==============================] - ETA: 0s - loss: 7.5227e-06 - accuracy: 1.0000\n",
      "Epoch 26: val_accuracy did not improve from 0.95775\n",
      "5/5 [==============================] - 0s 46ms/step - loss: 7.5227e-06 - accuracy: 1.0000 - val_loss: 0.3907 - val_accuracy: 0.9577\n",
      "Epoch 27/100\n",
      "5/5 [==============================] - ETA: 0s - loss: 1.5337e-05 - accuracy: 1.0000\n",
      "Epoch 27: val_accuracy did not improve from 0.95775\n",
      "5/5 [==============================] - 0s 45ms/step - loss: 1.5337e-05 - accuracy: 1.0000 - val_loss: 0.3698 - val_accuracy: 0.9577\n",
      "Epoch 28/100\n",
      "5/5 [==============================] - ETA: 0s - loss: 3.7112e-06 - accuracy: 1.0000\n",
      "Epoch 28: val_accuracy did not improve from 0.95775\n",
      "5/5 [==============================] - 0s 44ms/step - loss: 3.7112e-06 - accuracy: 1.0000 - val_loss: 0.3520 - val_accuracy: 0.9577\n",
      "Epoch 29/100\n",
      "5/5 [==============================] - ETA: 0s - loss: 2.4121e-06 - accuracy: 1.0000\n",
      "Epoch 29: val_accuracy did not improve from 0.95775\n",
      "5/5 [==============================] - 0s 46ms/step - loss: 2.4121e-06 - accuracy: 1.0000 - val_loss: 0.3361 - val_accuracy: 0.9577\n",
      "Epoch 30/100\n",
      "5/5 [==============================] - ETA: 0s - loss: 1.0893e-05 - accuracy: 1.0000\n",
      "Epoch 30: val_accuracy did not improve from 0.95775\n",
      "5/5 [==============================] - 0s 44ms/step - loss: 1.0893e-05 - accuracy: 1.0000 - val_loss: 0.3199 - val_accuracy: 0.9577\n",
      "Epoch 31/100\n",
      "5/5 [==============================] - ETA: 0s - loss: 3.7495e-06 - accuracy: 1.0000\n",
      "Epoch 31: val_accuracy did not improve from 0.95775\n",
      "5/5 [==============================] - 0s 47ms/step - loss: 3.7495e-06 - accuracy: 1.0000 - val_loss: 0.3058 - val_accuracy: 0.9577\n",
      "Epoch 32/100\n",
      "3/5 [=================>............] - ETA: 0s - loss: 1.2386e-05 - accuracy: 1.0000\n",
      "Epoch 32: val_accuracy did not improve from 0.95775\n",
      "5/5 [==============================] - 0s 42ms/step - loss: 8.4433e-06 - accuracy: 1.0000 - val_loss: 0.2927 - val_accuracy: 0.9577\n",
      "Epoch 33/100\n",
      "5/5 [==============================] - ETA: 0s - loss: 4.8831e-06 - accuracy: 1.0000\n",
      "Epoch 33: val_accuracy did not improve from 0.95775\n",
      "5/5 [==============================] - 0s 43ms/step - loss: 4.8831e-06 - accuracy: 1.0000 - val_loss: 0.2815 - val_accuracy: 0.9577\n",
      "Epoch 34/100\n",
      "5/5 [==============================] - ETA: 0s - loss: 5.6374e-07 - accuracy: 1.0000\n",
      "Epoch 34: val_accuracy did not improve from 0.95775\n",
      "5/5 [==============================] - 0s 45ms/step - loss: 5.6374e-07 - accuracy: 1.0000 - val_loss: 0.2699 - val_accuracy: 0.9577\n",
      "Epoch 35/100\n",
      "5/5 [==============================] - ETA: 0s - loss: 3.0808e-06 - accuracy: 1.0000\n",
      "Epoch 35: val_accuracy did not improve from 0.95775\n",
      "5/5 [==============================] - 0s 43ms/step - loss: 3.0808e-06 - accuracy: 1.0000 - val_loss: 0.2573 - val_accuracy: 0.9577\n",
      "Epoch 36/100\n",
      "3/5 [=================>............] - ETA: 0s - loss: 1.1036e-04 - accuracy: 1.0000\n",
      "Epoch 36: val_accuracy did not improve from 0.95775\n",
      "5/5 [==============================] - 0s 42ms/step - loss: 7.3617e-05 - accuracy: 1.0000 - val_loss: 0.2431 - val_accuracy: 0.9577\n",
      "Epoch 37/100\n",
      "3/5 [=================>............] - ETA: 0s - loss: 1.0417e-05 - accuracy: 1.0000\n",
      "Epoch 37: val_accuracy did not improve from 0.95775\n",
      "5/5 [==============================] - 0s 42ms/step - loss: 7.0621e-06 - accuracy: 1.0000 - val_loss: 0.2303 - val_accuracy: 0.9577\n",
      "Epoch 38/100\n",
      "5/5 [==============================] - ETA: 0s - loss: 1.7467e-06 - accuracy: 1.0000\n",
      "Epoch 38: val_accuracy did not improve from 0.95775\n",
      "5/5 [==============================] - 0s 43ms/step - loss: 1.7467e-06 - accuracy: 1.0000 - val_loss: 0.2191 - val_accuracy: 0.9577\n",
      "Epoch 39/100\n",
      "5/5 [==============================] - ETA: 0s - loss: 1.1977e-05 - accuracy: 1.0000\n",
      "Epoch 39: val_accuracy did not improve from 0.95775\n",
      "5/5 [==============================] - 0s 43ms/step - loss: 1.1977e-05 - accuracy: 1.0000 - val_loss: 0.2094 - val_accuracy: 0.9437\n",
      "Epoch 40/100\n",
      "5/5 [==============================] - ETA: 0s - loss: 9.8428e-07 - accuracy: 1.0000\n",
      "Epoch 40: val_accuracy did not improve from 0.95775\n",
      "5/5 [==============================] - 0s 42ms/step - loss: 9.8428e-07 - accuracy: 1.0000 - val_loss: 0.2014 - val_accuracy: 0.9437\n",
      "Epoch 41/100\n",
      "5/5 [==============================] - ETA: 0s - loss: 1.6556e-06 - accuracy: 1.0000\n",
      "Epoch 41: val_accuracy did not improve from 0.95775\n",
      "5/5 [==============================] - 0s 43ms/step - loss: 1.6556e-06 - accuracy: 1.0000 - val_loss: 0.1934 - val_accuracy: 0.9437\n",
      "Epoch 42/100\n",
      "5/5 [==============================] - ETA: 0s - loss: 7.5850e-06 - accuracy: 1.0000\n",
      "Epoch 42: val_accuracy did not improve from 0.95775\n",
      "5/5 [==============================] - 0s 44ms/step - loss: 7.5850e-06 - accuracy: 1.0000 - val_loss: 0.1863 - val_accuracy: 0.9437\n",
      "Epoch 43/100\n",
      "5/5 [==============================] - ETA: 0s - loss: 7.1607e-07 - accuracy: 1.0000\n",
      "Epoch 43: val_accuracy did not improve from 0.95775\n",
      "5/5 [==============================] - 0s 45ms/step - loss: 7.1607e-07 - accuracy: 1.0000 - val_loss: 0.1796 - val_accuracy: 0.9437\n",
      "Epoch 44/100\n",
      "5/5 [==============================] - ETA: 0s - loss: 4.4538e-07 - accuracy: 1.0000\n",
      "Epoch 44: val_accuracy did not improve from 0.95775\n",
      "5/5 [==============================] - 0s 44ms/step - loss: 4.4538e-07 - accuracy: 1.0000 - val_loss: 0.1755 - val_accuracy: 0.9577\n",
      "Epoch 45/100\n",
      "5/5 [==============================] - ETA: 0s - loss: 1.4216e-05 - accuracy: 1.0000\n",
      "Epoch 45: val_accuracy did not improve from 0.95775\n",
      "5/5 [==============================] - 0s 42ms/step - loss: 1.4216e-05 - accuracy: 1.0000 - val_loss: 0.1723 - val_accuracy: 0.9577\n",
      "Epoch 46/100\n",
      "5/5 [==============================] - ETA: 0s - loss: 4.7054e-06 - accuracy: 1.0000\n",
      "Epoch 46: val_accuracy did not improve from 0.95775\n",
      "5/5 [==============================] - 0s 44ms/step - loss: 4.7054e-06 - accuracy: 1.0000 - val_loss: 0.1672 - val_accuracy: 0.9577\n",
      "Epoch 47/100\n",
      "5/5 [==============================] - ETA: 0s - loss: 8.0876e-07 - accuracy: 1.0000\n",
      "Epoch 47: val_accuracy did not improve from 0.95775\n",
      "5/5 [==============================] - 0s 44ms/step - loss: 8.0876e-07 - accuracy: 1.0000 - val_loss: 0.1640 - val_accuracy: 0.9577\n",
      "Epoch 48/100\n",
      "5/5 [==============================] - ETA: 0s - loss: 4.0229e-06 - accuracy: 1.0000\n",
      "Epoch 48: val_accuracy did not improve from 0.95775\n",
      "5/5 [==============================] - 0s 44ms/step - loss: 4.0229e-06 - accuracy: 1.0000 - val_loss: 0.1608 - val_accuracy: 0.9577\n",
      "Epoch 49/100\n",
      "5/5 [==============================] - ETA: 0s - loss: 1.2453e-05 - accuracy: 1.0000\n",
      "Epoch 49: val_accuracy did not improve from 0.95775\n",
      "5/5 [==============================] - 0s 43ms/step - loss: 1.2453e-05 - accuracy: 1.0000 - val_loss: 0.1582 - val_accuracy: 0.9577\n",
      "Epoch 50/100\n",
      "5/5 [==============================] - ETA: 0s - loss: 1.3725e-06 - accuracy: 1.0000\n",
      "Epoch 50: val_accuracy did not improve from 0.95775\n",
      "5/5 [==============================] - 0s 44ms/step - loss: 1.3725e-06 - accuracy: 1.0000 - val_loss: 0.1568 - val_accuracy: 0.9577\n",
      "Epoch 51/100\n",
      "5/5 [==============================] - ETA: 0s - loss: 1.8212e-07 - accuracy: 1.0000\n",
      "Epoch 51: val_accuracy did not improve from 0.95775\n",
      "5/5 [==============================] - 0s 43ms/step - loss: 1.8212e-07 - accuracy: 1.0000 - val_loss: 0.1553 - val_accuracy: 0.9577\n",
      "Epoch 52/100\n",
      "5/5 [==============================] - ETA: 0s - loss: 5.5083e-06 - accuracy: 1.0000\n",
      "Epoch 52: val_accuracy did not improve from 0.95775\n",
      "5/5 [==============================] - 0s 42ms/step - loss: 5.5083e-06 - accuracy: 1.0000 - val_loss: 0.1540 - val_accuracy: 0.9577\n",
      "Epoch 53/100\n",
      "5/5 [==============================] - ETA: 0s - loss: 7.4284e-06 - accuracy: 1.0000\n",
      "Epoch 53: val_accuracy did not improve from 0.95775\n",
      "5/5 [==============================] - 0s 46ms/step - loss: 7.4284e-06 - accuracy: 1.0000 - val_loss: 0.1534 - val_accuracy: 0.9577\n",
      "Epoch 54/100\n",
      "5/5 [==============================] - ETA: 0s - loss: 1.4974e-06 - accuracy: 1.0000\n",
      "Epoch 54: val_accuracy did not improve from 0.95775\n",
      "5/5 [==============================] - 0s 45ms/step - loss: 1.4974e-06 - accuracy: 1.0000 - val_loss: 0.1522 - val_accuracy: 0.9577\n"
     ]
    },
    {
     "name": "stdout",
     "output_type": "stream",
     "text": [
      "Epoch 55/100\n",
      "5/5 [==============================] - ETA: 0s - loss: 3.3546e-06 - accuracy: 1.0000\n",
      "Epoch 55: val_accuracy did not improve from 0.95775\n",
      "5/5 [==============================] - 0s 44ms/step - loss: 3.3546e-06 - accuracy: 1.0000 - val_loss: 0.1515 - val_accuracy: 0.9437\n",
      "Epoch 56/100\n",
      "5/5 [==============================] - ETA: 0s - loss: 1.2020e-06 - accuracy: 1.0000\n",
      "Epoch 56: val_accuracy did not improve from 0.95775\n",
      "5/5 [==============================] - 0s 42ms/step - loss: 1.2020e-06 - accuracy: 1.0000 - val_loss: 0.1513 - val_accuracy: 0.9437\n",
      "Epoch 57/100\n",
      "5/5 [==============================] - ETA: 0s - loss: 4.2752e-06 - accuracy: 1.0000\n",
      "Epoch 57: val_accuracy did not improve from 0.95775\n",
      "5/5 [==============================] - 0s 45ms/step - loss: 4.2752e-06 - accuracy: 1.0000 - val_loss: 0.1515 - val_accuracy: 0.9437\n",
      "Epoch 58/100\n",
      "5/5 [==============================] - ETA: 0s - loss: 2.8042e-06 - accuracy: 1.0000\n",
      "Epoch 58: val_accuracy did not improve from 0.95775\n",
      "5/5 [==============================] - 0s 45ms/step - loss: 2.8042e-06 - accuracy: 1.0000 - val_loss: 0.1512 - val_accuracy: 0.9437\n",
      "Epoch 59/100\n",
      "5/5 [==============================] - ETA: 0s - loss: 1.6862e-06 - accuracy: 1.0000\n",
      "Epoch 59: val_accuracy did not improve from 0.95775\n",
      "5/5 [==============================] - 0s 43ms/step - loss: 1.6862e-06 - accuracy: 1.0000 - val_loss: 0.1513 - val_accuracy: 0.9437\n",
      "Epoch 60/100\n",
      "5/5 [==============================] - ETA: 0s - loss: 4.1978e-06 - accuracy: 1.0000\n",
      "Epoch 60: val_accuracy did not improve from 0.95775\n",
      "5/5 [==============================] - 0s 46ms/step - loss: 4.1978e-06 - accuracy: 1.0000 - val_loss: 0.1516 - val_accuracy: 0.9437\n",
      "Epoch 61/100\n",
      "5/5 [==============================] - ETA: 0s - loss: 4.3204e-06 - accuracy: 1.0000\n",
      "Epoch 61: val_accuracy did not improve from 0.95775\n",
      "5/5 [==============================] - 0s 44ms/step - loss: 4.3204e-06 - accuracy: 1.0000 - val_loss: 0.1517 - val_accuracy: 0.9437\n",
      "Epoch 62/100\n",
      "5/5 [==============================] - ETA: 0s - loss: 2.6305e-06 - accuracy: 1.0000\n",
      "Epoch 62: val_accuracy did not improve from 0.95775\n",
      "5/5 [==============================] - 0s 44ms/step - loss: 2.6305e-06 - accuracy: 1.0000 - val_loss: 0.1521 - val_accuracy: 0.9437\n",
      "Epoch 63/100\n",
      "5/5 [==============================] - ETA: 0s - loss: 5.0367e-06 - accuracy: 1.0000\n",
      "Epoch 63: val_accuracy did not improve from 0.95775\n",
      "5/5 [==============================] - 0s 44ms/step - loss: 5.0367e-06 - accuracy: 1.0000 - val_loss: 0.1525 - val_accuracy: 0.9437\n",
      "Epoch 64/100\n",
      "5/5 [==============================] - ETA: 0s - loss: 1.4536e-06 - accuracy: 1.0000\n",
      "Epoch 64: val_accuracy did not improve from 0.95775\n",
      "5/5 [==============================] - 0s 45ms/step - loss: 1.4536e-06 - accuracy: 1.0000 - val_loss: 0.1529 - val_accuracy: 0.9437\n",
      "Epoch 65/100\n",
      "5/5 [==============================] - ETA: 0s - loss: 1.4577e-06 - accuracy: 1.0000\n",
      "Epoch 65: val_accuracy did not improve from 0.95775\n",
      "5/5 [==============================] - 0s 43ms/step - loss: 1.4577e-06 - accuracy: 1.0000 - val_loss: 0.1533 - val_accuracy: 0.9437\n",
      "Epoch 66/100\n",
      "5/5 [==============================] - ETA: 0s - loss: 2.0488e-06 - accuracy: 1.0000\n",
      "Epoch 66: val_accuracy did not improve from 0.95775\n",
      "5/5 [==============================] - 0s 44ms/step - loss: 2.0488e-06 - accuracy: 1.0000 - val_loss: 0.1536 - val_accuracy: 0.9437\n",
      "Epoch 67/100\n",
      "5/5 [==============================] - ETA: 0s - loss: 6.6087e-06 - accuracy: 1.0000\n",
      "Epoch 67: val_accuracy did not improve from 0.95775\n",
      "5/5 [==============================] - 0s 46ms/step - loss: 6.6087e-06 - accuracy: 1.0000 - val_loss: 0.1539 - val_accuracy: 0.9437\n",
      "Epoch 68/100\n",
      "5/5 [==============================] - ETA: 0s - loss: 2.5609e-06 - accuracy: 1.0000\n",
      "Epoch 68: val_accuracy did not improve from 0.95775\n",
      "5/5 [==============================] - 0s 42ms/step - loss: 2.5609e-06 - accuracy: 1.0000 - val_loss: 0.1541 - val_accuracy: 0.9437\n",
      "Epoch 69/100\n",
      "5/5 [==============================] - ETA: 0s - loss: 1.9858e-06 - accuracy: 1.0000\n",
      "Epoch 69: val_accuracy did not improve from 0.95775\n",
      "5/5 [==============================] - 0s 43ms/step - loss: 1.9858e-06 - accuracy: 1.0000 - val_loss: 0.1547 - val_accuracy: 0.9437\n",
      "Epoch 70/100\n",
      "5/5 [==============================] - ETA: 0s - loss: 2.0786e-06 - accuracy: 1.0000\n",
      "Epoch 70: val_accuracy did not improve from 0.95775\n",
      "5/5 [==============================] - 0s 43ms/step - loss: 2.0786e-06 - accuracy: 1.0000 - val_loss: 0.1549 - val_accuracy: 0.9437\n",
      "Epoch 71/100\n",
      "5/5 [==============================] - ETA: 0s - loss: 1.0462e-05 - accuracy: 1.0000\n",
      "Epoch 71: val_accuracy did not improve from 0.95775\n",
      "5/5 [==============================] - 0s 46ms/step - loss: 1.0462e-05 - accuracy: 1.0000 - val_loss: 0.1554 - val_accuracy: 0.9437\n",
      "Epoch 72/100\n",
      "5/5 [==============================] - ETA: 0s - loss: 3.9243e-06 - accuracy: 1.0000\n",
      "Epoch 72: val_accuracy did not improve from 0.95775\n",
      "5/5 [==============================] - 0s 46ms/step - loss: 3.9243e-06 - accuracy: 1.0000 - val_loss: 0.1557 - val_accuracy: 0.9437\n",
      "Epoch 73/100\n",
      "3/5 [=================>............] - ETA: 0s - loss: 2.9762e-05 - accuracy: 1.0000\n",
      "Epoch 73: val_accuracy did not improve from 0.95775\n",
      "5/5 [==============================] - 0s 41ms/step - loss: 1.9854e-05 - accuracy: 1.0000 - val_loss: 0.1559 - val_accuracy: 0.9437\n",
      "Epoch 74/100\n",
      "5/5 [==============================] - ETA: 0s - loss: 1.2814e-06 - accuracy: 1.0000\n",
      "Epoch 74: val_accuracy did not improve from 0.95775\n",
      "5/5 [==============================] - 0s 43ms/step - loss: 1.2814e-06 - accuracy: 1.0000 - val_loss: 0.1565 - val_accuracy: 0.9437\n",
      "Epoch 75/100\n",
      "5/5 [==============================] - ETA: 0s - loss: 7.4587e-07 - accuracy: 1.0000\n",
      "Epoch 75: val_accuracy did not improve from 0.95775\n",
      "5/5 [==============================] - 0s 43ms/step - loss: 7.4587e-07 - accuracy: 1.0000 - val_loss: 0.1567 - val_accuracy: 0.9437\n",
      "Epoch 76/100\n",
      "5/5 [==============================] - ETA: 0s - loss: 3.1410e-06 - accuracy: 1.0000\n",
      "Epoch 76: val_accuracy did not improve from 0.95775\n",
      "5/5 [==============================] - 0s 45ms/step - loss: 3.1410e-06 - accuracy: 1.0000 - val_loss: 0.1569 - val_accuracy: 0.9437\n",
      "Epoch 77/100\n",
      "5/5 [==============================] - ETA: 0s - loss: 1.0149e-06 - accuracy: 1.0000\n",
      "Epoch 77: val_accuracy did not improve from 0.95775\n",
      "5/5 [==============================] - 0s 44ms/step - loss: 1.0149e-06 - accuracy: 1.0000 - val_loss: 0.1572 - val_accuracy: 0.9437\n",
      "Epoch 78/100\n",
      "5/5 [==============================] - ETA: 0s - loss: 4.6810e-06 - accuracy: 1.0000\n",
      "Epoch 78: val_accuracy did not improve from 0.95775\n",
      "5/5 [==============================] - 0s 43ms/step - loss: 4.6810e-06 - accuracy: 1.0000 - val_loss: 0.1574 - val_accuracy: 0.9437\n",
      "Epoch 79/100\n",
      "5/5 [==============================] - ETA: 0s - loss: 6.6640e-07 - accuracy: 1.0000\n",
      "Epoch 79: val_accuracy did not improve from 0.95775\n",
      "5/5 [==============================] - 0s 44ms/step - loss: 6.6640e-07 - accuracy: 1.0000 - val_loss: 0.1578 - val_accuracy: 0.9437\n",
      "Epoch 80/100\n",
      "5/5 [==============================] - ETA: 0s - loss: 2.7432e-06 - accuracy: 1.0000\n",
      "Epoch 80: val_accuracy did not improve from 0.95775\n",
      "5/5 [==============================] - 0s 43ms/step - loss: 2.7432e-06 - accuracy: 1.0000 - val_loss: 0.1580 - val_accuracy: 0.9577\n",
      "Epoch 81/100\n",
      "5/5 [==============================] - ETA: 0s - loss: 4.5821e-06 - accuracy: 1.0000\n",
      "Epoch 81: val_accuracy did not improve from 0.95775\n",
      "5/5 [==============================] - 0s 40ms/step - loss: 4.5821e-06 - accuracy: 1.0000 - val_loss: 0.1583 - val_accuracy: 0.9577\n",
      "Epoch 82/100\n",
      "5/5 [==============================] - ETA: 0s - loss: 4.1232e-06 - accuracy: 1.0000\n",
      "Epoch 82: val_accuracy did not improve from 0.95775\n",
      "5/5 [==============================] - 0s 45ms/step - loss: 4.1232e-06 - accuracy: 1.0000 - val_loss: 0.1587 - val_accuracy: 0.9577\n",
      "Epoch 83/100\n",
      "3/5 [=================>............] - ETA: 0s - loss: 8.1956e-08 - accuracy: 1.0000\n",
      "Epoch 83: val_accuracy did not improve from 0.95775\n",
      "5/5 [==============================] - 0s 40ms/step - loss: 1.4578e-05 - accuracy: 1.0000 - val_loss: 0.1589 - val_accuracy: 0.9577\n",
      "Epoch 84/100\n"
     ]
    },
    {
     "name": "stdout",
     "output_type": "stream",
     "text": [
      "3/5 [=================>............] - ETA: 0s - loss: 2.8085e-06 - accuracy: 1.0000\n",
      "Epoch 84: val_accuracy did not improve from 0.95775\n",
      "5/5 [==============================] - 0s 42ms/step - loss: 2.2059e-06 - accuracy: 1.0000 - val_loss: 0.1592 - val_accuracy: 0.9577\n",
      "Epoch 85/100\n",
      "3/5 [=================>............] - ETA: 0s - loss: 7.0174e-06 - accuracy: 1.0000\n",
      "Epoch 85: val_accuracy did not improve from 0.95775\n",
      "5/5 [==============================] - 0s 39ms/step - loss: 5.2677e-06 - accuracy: 1.0000 - val_loss: 0.1594 - val_accuracy: 0.9577\n",
      "Epoch 86/100\n",
      "5/5 [==============================] - ETA: 0s - loss: 2.6023e-06 - accuracy: 1.0000\n",
      "Epoch 86: val_accuracy did not improve from 0.95775\n",
      "5/5 [==============================] - 0s 41ms/step - loss: 2.6023e-06 - accuracy: 1.0000 - val_loss: 0.1596 - val_accuracy: 0.9577\n",
      "Epoch 87/100\n",
      "5/5 [==============================] - ETA: 0s - loss: 1.0314e-06 - accuracy: 1.0000\n",
      "Epoch 87: val_accuracy did not improve from 0.95775\n",
      "5/5 [==============================] - 0s 41ms/step - loss: 1.0314e-06 - accuracy: 1.0000 - val_loss: 0.1596 - val_accuracy: 0.9577\n",
      "Epoch 88/100\n",
      "3/5 [=================>............] - ETA: 0s - loss: 8.1955e-07 - accuracy: 1.0000\n",
      "Epoch 88: val_accuracy did not improve from 0.95775\n",
      "5/5 [==============================] - 0s 41ms/step - loss: 6.3081e-07 - accuracy: 1.0000 - val_loss: 0.1597 - val_accuracy: 0.9577\n",
      "Epoch 89/100\n",
      "3/5 [=================>............] - ETA: 0s - loss: 4.2592e-07 - accuracy: 1.0000\n",
      "Epoch 89: val_accuracy did not improve from 0.95775\n",
      "5/5 [==============================] - 0s 40ms/step - loss: 4.2302e-07 - accuracy: 1.0000 - val_loss: 0.1599 - val_accuracy: 0.9577\n",
      "Epoch 90/100\n",
      "3/5 [=================>............] - ETA: 0s - loss: 8.0536e-06 - accuracy: 1.0000\n",
      "Epoch 90: val_accuracy did not improve from 0.95775\n",
      "5/5 [==============================] - 0s 40ms/step - loss: 5.3947e-06 - accuracy: 1.0000 - val_loss: 0.1603 - val_accuracy: 0.9577\n",
      "Epoch 91/100\n",
      "5/5 [==============================] - ETA: 0s - loss: 4.7147e-06 - accuracy: 1.0000\n",
      "Epoch 91: val_accuracy did not improve from 0.95775\n",
      "5/5 [==============================] - 0s 41ms/step - loss: 4.7147e-06 - accuracy: 1.0000 - val_loss: 0.1605 - val_accuracy: 0.9577\n",
      "Epoch 92/100\n",
      "5/5 [==============================] - ETA: 0s - loss: 2.0139e-06 - accuracy: 1.0000\n",
      "Epoch 92: val_accuracy did not improve from 0.95775\n",
      "5/5 [==============================] - 0s 47ms/step - loss: 2.0139e-06 - accuracy: 1.0000 - val_loss: 0.1604 - val_accuracy: 0.9577\n",
      "Epoch 93/100\n",
      "5/5 [==============================] - ETA: 0s - loss: 1.2000e-05 - accuracy: 1.0000\n",
      "Epoch 93: val_accuracy did not improve from 0.95775\n",
      "5/5 [==============================] - 0s 41ms/step - loss: 1.2000e-05 - accuracy: 1.0000 - val_loss: 0.1611 - val_accuracy: 0.9577\n",
      "Epoch 94/100\n",
      "5/5 [==============================] - ETA: 0s - loss: 1.1837e-06 - accuracy: 1.0000\n",
      "Epoch 94: val_accuracy did not improve from 0.95775\n",
      "5/5 [==============================] - 0s 46ms/step - loss: 1.1837e-06 - accuracy: 1.0000 - val_loss: 0.1613 - val_accuracy: 0.9577\n",
      "Epoch 95/100\n",
      "3/5 [=================>............] - ETA: 0s - loss: 1.2032e-06 - accuracy: 1.0000\n",
      "Epoch 95: val_accuracy did not improve from 0.95775\n",
      "5/5 [==============================] - 0s 43ms/step - loss: 1.5546e-06 - accuracy: 1.0000 - val_loss: 0.1616 - val_accuracy: 0.9577\n",
      "Epoch 96/100\n",
      "5/5 [==============================] - ETA: 0s - loss: 3.6739e-06 - accuracy: 1.0000\n",
      "Epoch 96: val_accuracy did not improve from 0.95775\n",
      "5/5 [==============================] - 0s 40ms/step - loss: 3.6739e-06 - accuracy: 1.0000 - val_loss: 0.1620 - val_accuracy: 0.9577\n",
      "Epoch 97/100\n",
      "5/5 [==============================] - ETA: 0s - loss: 1.3195e-06 - accuracy: 1.0000\n",
      "Epoch 97: val_accuracy did not improve from 0.95775\n",
      "5/5 [==============================] - 0s 41ms/step - loss: 1.3195e-06 - accuracy: 1.0000 - val_loss: 0.1621 - val_accuracy: 0.9577\n",
      "Epoch 98/100\n",
      "3/5 [=================>............] - ETA: 0s - loss: 9.1763e-07 - accuracy: 1.0000\n",
      "Epoch 98: val_accuracy did not improve from 0.95775\n",
      "5/5 [==============================] - 0s 40ms/step - loss: 6.7136e-07 - accuracy: 1.0000 - val_loss: 0.1622 - val_accuracy: 0.9577\n",
      "Epoch 99/100\n",
      "3/5 [=================>............] - ETA: 0s - loss: 5.0627e-06 - accuracy: 1.0000\n",
      "Epoch 99: val_accuracy did not improve from 0.95775\n",
      "5/5 [==============================] - 0s 41ms/step - loss: 3.5440e-06 - accuracy: 1.0000 - val_loss: 0.1628 - val_accuracy: 0.9577\n",
      "Epoch 100/100\n",
      "5/5 [==============================] - ETA: 0s - loss: 5.4098e-06 - accuracy: 1.0000\n",
      "Epoch 100: val_accuracy did not improve from 0.95775\n",
      "5/5 [==============================] - 0s 43ms/step - loss: 5.4098e-06 - accuracy: 1.0000 - val_loss: 0.1633 - val_accuracy: 0.9577\n"
     ]
    }
   ],
   "source": [
    "model.compile(loss='categorical_crossentropy',\n",
    "              optimizer='adam',\n",
    "              metrics=['accuracy'])\n",
    "history = model.fit(X_train_ex,\n",
    "          y_train,\n",
    "          epochs=100,\n",
    "          batch_size=32,\n",
    "          validation_data=(X_test_ex, y_test),\n",
    "          callbacks=[cp_callback])"
   ]
  },
  {
   "cell_type": "code",
   "execution_count": 7,
   "id": "869619ea",
   "metadata": {},
   "outputs": [
    {
     "data": {
      "text/plain": [
       "<matplotlib.legend.Legend at 0x21c3a0eb1f0>"
      ]
     },
     "execution_count": 7,
     "metadata": {},
     "output_type": "execute_result"
    },
    {
     "data": {
      "image/png": "[encoded data removed]",
      "text/plain": [
       "<Figure size 432x288 with 1 Axes>"
      ]
     },
     "metadata": {
      "needs_background": "light"
     },
     "output_type": "display_data"
    }
   ],
   "source": [
    "plt.plot(history.history['accuracy'], label='Train Accuracy')\n",
    "plt.plot(history.history['val_accuracy'], label='Validation Accuracy')\n",
    "plt.xlabel('Epochs')\n",
    "plt.ylabel('Accuracy')\n",
    "plt.legend()"
   ]
  },
  {
   "cell_type": "code",
   "execution_count": 8,
   "id": "b8dd978d",
   "metadata": {},
   "outputs": [
    {
     "name": "stdout",
     "output_type": "stream",
     "text": [
      "3/3 [==============================] - 0s 7ms/step\n"
     ]
    },
    {
     "data": {
      "image/png": "[encoded data removed]",
      "text/plain": [
       "<Figure size 144x144 with 2 Axes>"
      ]
     },
     "metadata": {
      "needs_background": "light"
     },
     "output_type": "display_data"
    }
   ],
   "source": [
    "y_pred= model.predict(X_test_ex)\n",
    "y_p= np.argmax(y_pred, axis=1)\n",
    "y_pred=y_pred.astype(int)\n",
    "y_t=np.argmax(y_test, axis=1)\n",
    "confusion_mtx = tf.math.confusion_matrix(y_t, y_p) \n",
    "plt.figure(figsize=(2,2))\n",
    "sns.heatmap(confusion_mtx, \n",
    "            annot=True, fmt='g')\n",
    "plt.xlabel('Prediction')\n",
    "plt.ylabel('Label')\n",
    "plt.show()"
   ]
  },
  {
   "cell_type": "code",
   "execution_count": 9,
   "id": "b9129a0f",
   "metadata": {},
   "outputs": [
    {
     "data": {
      "text/plain": [
       "(0.9577464788732394, 0.9577464788732394, 0.9577464788732394, None)"
      ]
     },
     "execution_count": 9,
     "metadata": {},
     "output_type": "execute_result"
    }
   ],
   "source": [
    "from sklearn.metrics import precision_recall_fscore_support\n",
    "precision_recall_fscore_support(y_t, y_p, average='micro')"
   ]
  },
  {
   "cell_type": "code",
   "execution_count": null,
   "id": "0ebdd8bb",
   "metadata": {},
   "outputs": [],
   "source": []
  }
 ],
 "metadata": {
  "kernelspec": {
   "display_name": "Python 3 (ipykernel)",
   "language": "python",
   "name": "python3"
  },
  "language_info": {
   "codemirror_mode": {
    "name": "ipython",
    "version": 3
   },
   "file_extension": ".py",
   "mimetype": "text/x-python",
   "name": "python",
   "nbconvert_exporter": "python",
   "pygments_lexer": "ipython3",
   "version": "3.9.7"
  }
 },
 "nbformat": 4,
 "nbformat_minor": 5
}
