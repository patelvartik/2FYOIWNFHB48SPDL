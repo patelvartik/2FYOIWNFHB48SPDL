{
 "cells": [
  {
   "cell_type": "markdown",
   "id": "a03a550d",
   "metadata": {},
   "source": [
    "# Voice Cloning"
   ]
  },
  {
   "cell_type": "code",
   "execution_count": 1,
   "id": "2e4fd7fb",
   "metadata": {},
   "outputs": [],
   "source": [
    "import speech_recognition as sr\n",
    "import os\n",
    "import glob\n",
    "import wave"
   ]
  },
  {
   "cell_type": "code",
   "execution_count": 2,
   "id": "9992ca37",
   "metadata": {},
   "outputs": [
    {
     "name": "stderr",
     "output_type": "stream",
     "text": [
      "C:\\Users\\patel\\AI Resedency Prog\\VoiceCloning\\Real-Time-Voice-Cloning-master\\encoder\\audio.py:13: UserWarning: Unable to import 'webrtcvad'. This package enables noise removal and is recommended.\n",
      "  warn(\"Unable to import 'webrtcvad'. This package enables noise removal and is recommended.\")\n"
     ]
    }
   ],
   "source": [
    "import argparse\n",
    "import os\n",
    "from pathlib import Path\n",
    "\n",
    "import librosa\n",
    "import numpy as np\n",
    "import soundfile as sf\n",
    "import torch\n",
    "\n",
    "from encoder import inference as encoder\n",
    "from encoder.params_model import model_embedding_size as speaker_embedding_size\n",
    "from synthesizer.inference import Synthesizer\n",
    "from utils.argutils import print_args\n",
    "from utils.default_models import ensure_default_models\n",
    "from vocoder import inference as vocoder"
   ]
  },
  {
   "cell_type": "markdown",
   "id": "a5cac916",
   "metadata": {},
   "source": [
    "## 1. Voice to Text Function"
   ]
  },
  {
   "cell_type": "code",
   "execution_count": 3,
   "id": "18c716b1",
   "metadata": {},
   "outputs": [],
   "source": [
    "Folder_orig=\"data_wav/Orignal\"\n",
    "Folder_dest=\"data_wav/Fake\""
   ]
  },
  {
   "cell_type": "code",
   "execution_count": 4,
   "id": "53afba50",
   "metadata": {},
   "outputs": [],
   "source": [
    "def voice_to_text(voice):\n",
    "    r = sr.Recognizer()\n",
    "    with sr.AudioFile(str(voice)) as source:\n",
    "        r.adjust_for_ambient_noise(source)\n",
    "\n",
    "        audio = r.listen(source)\n",
    "\n",
    "        try:\n",
    "            text=r.recognize_google(audio)\n",
    "            return(text)\n",
    "\n",
    "        except Exception as e:\n",
    "            print(\"Error {} : \".format(e) )"
   ]
  },
  {
   "cell_type": "markdown",
   "id": "e73eb39b",
   "metadata": {},
   "source": [
    "## 2. Text to Voice Function"
   ]
  },
  {
   "cell_type": "code",
   "execution_count": 5,
   "id": "ce2baef5",
   "metadata": {
    "scrolled": true
   },
   "outputs": [
    {
     "name": "stdout",
     "output_type": "stream",
     "text": [
      "Running a test of your configuration...\n",
      "\n",
      "Using CPU for inference.\n",
      "\n",
      "Loaded encoder \"encoder.pt\" trained to step 1564501\n",
      "Synthesizer using device: cpu\n",
      "Building Wave-RNN\n",
      "Trainable Parameters: 4.481M\n",
      "Loading model weights at saved_models\\default\\vocoder.pt\n"
     ]
    }
   ],
   "source": [
    "# Hide GPUs from Pytorch to force CPU processing\n",
    "os.environ[\"CUDA_VISIBLE_DEVICES\"] = \"-1\"\n",
    "\n",
    "print(\"Running a test of your configuration...\\n\")\n",
    "\n",
    "if torch.cuda.is_available():\n",
    "    device_id = torch.cuda.current_device()\n",
    "    gpu_properties = torch.cuda.get_device_properties(device_id)\n",
    "    ## Print some environment information (for debugging purposes)\n",
    "    print(\"Found %d GPUs available. Using GPU %d (%s) of compute capability %d.%d with \"\n",
    "        \"%.1fGb total memory.\\n\" %\n",
    "        (torch.cuda.device_count(),\n",
    "        device_id,\n",
    "        gpu_properties.name,\n",
    "        gpu_properties.major,\n",
    "        gpu_properties.minor,\n",
    "        gpu_properties.total_memory / 1e9))\n",
    "else:\n",
    "    print(\"Using CPU for inference.\\n\")\n",
    "\n",
    "## Load the models one by one.\n",
    "ensure_default_models(Path(\"saved_models\"))\n",
    "encoder.load_model(Path(\"saved_models/default/encoder.pt\"))\n",
    "synthesizer = Synthesizer(\"saved_models/default/synthesizer.pt\")\n",
    "vocoder.load_model(Path(\"saved_models/default/vocoder.pt\"))"
   ]
  },
  {
   "cell_type": "code",
   "execution_count": 6,
   "id": "18a0d2df",
   "metadata": {},
   "outputs": [],
   "source": [
    "def text_to_voice(sample_voice,audio_text,dest_path):\n",
    "    try:\n",
    "        \n",
    "        in_fpath = sample_voice\n",
    "\n",
    "        preprocessed_wav = encoder.preprocess_wav(in_fpath)\n",
    "\n",
    "        original_wav, sampling_rate = librosa.load(str(in_fpath))\n",
    "        preprocessed_wav = encoder.preprocess_wav(original_wav, sampling_rate)\n",
    "\n",
    "        embed = encoder.embed_utterance(preprocessed_wav)\n",
    "\n",
    "        text = audio_text\n",
    "\n",
    "        # The synthesizer works in batch, so you need to put your data in a list or numpy array\n",
    "        texts = [text]\n",
    "        embeds = [embed]\n",
    "        \n",
    "        specs = synthesizer.synthesize_spectrograms(texts, embeds)\n",
    "        spec = specs[0]\n",
    "\n",
    "        generated_wav = vocoder.infer_waveform(spec)\n",
    "\n",
    "        generated_wav = np.pad(generated_wav, (0, synthesizer.sample_rate), mode=\"constant\")\n",
    "\n",
    "        # Trim excess silences to compensate for gaps in spectrograms (issue #53)\n",
    "        generated_wav = encoder.preprocess_wav(generated_wav)\n",
    "\n",
    "        # Save it on the disk\n",
    "        filename = dest_path\n",
    "        print(generated_wav.dtype)\n",
    "        sf.write(filename, generated_wav.astype(np.float32), synthesizer.sample_rate)\n",
    "        print(\"\\nSaved output as %s\\n\\n\" % filename)\n",
    "\n",
    "\n",
    "    except Exception as e:\n",
    "        print(\"Caught exception: %s\" % repr(e))"
   ]
  },
  {
   "cell_type": "markdown",
   "id": "bac70372",
   "metadata": {},
   "source": [
    "## 3. Voice to Voice"
   ]
  },
  {
   "cell_type": "code",
   "execution_count": 7,
   "id": "3e88d9bd",
   "metadata": {},
   "outputs": [],
   "source": [
    "def voice_to_voice(orig_audio,sample_voice,dest_audio):\n",
    "    text=voice_to_text(orig_audio)\n",
    "    text_to_voice(sample_voice,text,dest_audio)"
   ]
  },
  {
   "cell_type": "code",
   "execution_count": 8,
   "id": "5d4446a8",
   "metadata": {
    "scrolled": true
   },
   "outputs": [
    {
     "name": "stdout",
     "output_type": "stream",
     "text": [
      "Error  : \n"
     ]
    },
    {
     "name": "stderr",
     "output_type": "stream",
     "text": [
      "C:\\Users\\patel\\AI Resedency Prog\\VoiceCloning\\Real-Time-Voice-Cloning-master\\encoder\\audio.py:42: FutureWarning: Pass orig_sr=44100, target_sr=16000 as keyword args. From version 0.10 passing these as positional arguments will result in an error\n",
      "  wav = librosa.resample(wav, source_sr, sampling_rate)\n",
      "C:\\Users\\patel\\AI Resedency Prog\\VoiceCloning\\Real-Time-Voice-Cloning-master\\encoder\\audio.py:42: FutureWarning: Pass orig_sr=22050, target_sr=16000 as keyword args. From version 0.10 passing these as positional arguments will result in an error\n",
      "  wav = librosa.resample(wav, source_sr, sampling_rate)\n",
      "C:\\Users\\patel\\AI Resedency Prog\\VoiceCloning\\Real-Time-Voice-Cloning-master\\encoder\\audio.py:58: FutureWarning: Pass y=[ 0.0000000e+00  0.0000000e+00  0.0000000e+00 ... -1.0382825e-15\n",
      "  2.7775261e-16  0.0000000e+00], sr=16000 as keyword args. From version 0.10 passing these as positional arguments will result in an error\n",
      "  frames = librosa.feature.melspectrogram(\n"
     ]
    },
    {
     "name": "stdout",
     "output_type": "stream",
     "text": [
      "Trainable Parameters: 30.870M\n",
      "Caught exception: AttributeError(\"'str' object has no attribute 'name'\")\n"
     ]
    },
    {
     "name": "stderr",
     "output_type": "stream",
     "text": [
      "C:\\Users\\patel\\AI Resedency Prog\\VoiceCloning\\Real-Time-Voice-Cloning-master\\encoder\\audio.py:42: FutureWarning: Pass orig_sr=44100, target_sr=16000 as keyword args. From version 0.10 passing these as positional arguments will result in an error\n",
      "  wav = librosa.resample(wav, source_sr, sampling_rate)\n",
      "C:\\Users\\patel\\AI Resedency Prog\\VoiceCloning\\Real-Time-Voice-Cloning-master\\encoder\\audio.py:58: FutureWarning: Pass y=[0. 0. 0. ... 0. 0. 0.], sr=16000 as keyword args. From version 0.10 passing these as positional arguments will result in an error\n",
      "  frames = librosa.feature.melspectrogram(\n"
     ]
    },
    {
     "name": "stdout",
     "output_type": "stream",
     "text": [
      "\n",
      "| Generating 1/1\n",
      "\n",
      "\n",
      "Done.\n",
      "\n",
      "{| ████████████████ 28500/28800 | Batch Size: 3 | Gen Rate: 2.0kHz | }float64\n",
      "\n",
      "Saved output as data_wav\\Fake\\fake01.wav\n",
      "\n",
      "\n"
     ]
    },
    {
     "name": "stderr",
     "output_type": "stream",
     "text": [
      "C:\\Users\\patel\\AI Resedency Prog\\VoiceCloning\\Real-Time-Voice-Cloning-master\\encoder\\audio.py:58: FutureWarning: Pass y=[ 0.000000e+00  0.000000e+00  0.000000e+00 ...  8.739905e-08 -9.438780e-08\n",
      "  0.000000e+00], sr=16000 as keyword args. From version 0.10 passing these as positional arguments will result in an error\n",
      "  frames = librosa.feature.melspectrogram(\n"
     ]
    },
    {
     "name": "stdout",
     "output_type": "stream",
     "text": [
      "\n",
      "| Generating 1/1\n",
      "\n",
      "\n",
      "Done.\n",
      "\n",
      "{| ████████████████ 38000/38400 | Batch Size: 4 | Gen Rate: 2.7kHz | }float64\n",
      "\n",
      "Saved output as data_wav\\Fake\\fake02.wav\n",
      "\n",
      "\n",
      "\n",
      "| Generating 1/1\n",
      "\n",
      "\n",
      "Done.\n",
      "\n",
      "{| ████████████████ 28500/28800 | Batch Size: 3 | Gen Rate: 2.2kHz | }float64\n",
      "\n",
      "Saved output as data_wav\\Fake\\fake03.wav\n",
      "\n",
      "\n",
      "\n",
      "| Generating 1/1\n",
      "\n",
      "\n",
      "Done.\n",
      "\n",
      "{| ████████████████ 38000/38400 | Batch Size: 4 | Gen Rate: 2.8kHz | }float64\n",
      "\n",
      "Saved output as data_wav\\Fake\\fake04.wav\n",
      "\n",
      "\n",
      "Error  : \n",
      "Caught exception: AttributeError(\"'NoneType' object has no attribute 'strip'\")\n",
      "Error  : \n",
      "Caught exception: AttributeError(\"'NoneType' object has no attribute 'strip'\")\n",
      "\n",
      "| Generating 1/1\n",
      "\n",
      "\n",
      "Done.\n",
      "\n",
      "{| ████████████████ 19000/19200 | Batch Size: 2 | Gen Rate: 1.5kHz | }float64\n",
      "\n",
      "Saved output as data_wav\\Fake\\fake07.wav\n",
      "\n",
      "\n"
     ]
    },
    {
     "name": "stderr",
     "output_type": "stream",
     "text": [
      "C:\\Users\\patel\\AI Resedency Prog\\VoiceCloning\\Real-Time-Voice-Cloning-master\\encoder\\audio.py:58: FutureWarning: Pass y=[ 0.0000000e+00  0.0000000e+00  0.0000000e+00 ... -2.7167151e-05\n",
      " -1.4856407e-05  0.0000000e+00], sr=16000 as keyword args. From version 0.10 passing these as positional arguments will result in an error\n",
      "  frames = librosa.feature.melspectrogram(\n"
     ]
    },
    {
     "name": "stdout",
     "output_type": "stream",
     "text": [
      "\n",
      "| Generating 1/1\n",
      "\n",
      "\n",
      "Done.\n",
      "\n",
      "{| ████████████████ 57000/57600 | Batch Size: 6 | Gen Rate: 3.9kHz | }float64\n",
      "\n",
      "Saved output as data_wav\\Fake\\fake08.wav\n",
      "\n",
      "\n"
     ]
    },
    {
     "name": "stderr",
     "output_type": "stream",
     "text": [
      "C:\\Users\\patel\\AI Resedency Prog\\VoiceCloning\\Real-Time-Voice-Cloning-master\\encoder\\audio.py:58: FutureWarning: Pass y=[ 0.0000000e+00  0.0000000e+00  0.0000000e+00 ...  2.1713458e-05\n",
      " -1.1926171e-06  0.0000000e+00], sr=16000 as keyword args. From version 0.10 passing these as positional arguments will result in an error\n",
      "  frames = librosa.feature.melspectrogram(\n"
     ]
    },
    {
     "name": "stdout",
     "output_type": "stream",
     "text": [
      "\n",
      "| Generating 1/1\n",
      "\n",
      "\n",
      "Done.\n",
      "\n",
      "{| ████████████████ 28500/28800 | Batch Size: 3 | Gen Rate: 2.2kHz | }float64\n",
      "\n",
      "Saved output as data_wav\\Fake\\fake09.wav\n",
      "\n",
      "\n",
      "\n",
      "| Generating 1/1\n",
      "\n",
      "\n",
      "Done.\n",
      "\n",
      "{| ████████████████ 19000/19200 | Batch Size: 2 | Gen Rate: 1.4kHz | }float64\n",
      "\n",
      "Saved output as data_wav\\Fake\\fake10.wav\n",
      "\n",
      "\n",
      "\n",
      "| Generating 1/1\n",
      "\n",
      "\n",
      "Done.\n",
      "\n",
      "{| ████████████████ 85500/86400 | Batch Size: 9 | Gen Rate: 4.5kHz | }float64\n",
      "\n",
      "Saved output as data_wav\\Fake\\fake11.wav\n",
      "\n",
      "\n",
      "\n",
      "| Generating 1/1\n",
      "\n",
      "\n",
      "Done.\n",
      "\n",
      "{| ████████████████ 38000/38400 | Batch Size: 4 | Gen Rate: 2.6kHz | }float64\n",
      "\n",
      "Saved output as data_wav\\Fake\\fake12.wav\n",
      "\n",
      "\n",
      "\n",
      "| Generating 1/1\n",
      "\n",
      "\n",
      "Done.\n",
      "\n",
      "{| ████████████████ 57000/57600 | Batch Size: 6 | Gen Rate: 3.8kHz | }float64\n",
      "\n",
      "Saved output as data_wav\\Fake\\fake13.wav\n",
      "\n",
      "\n",
      "\n",
      "| Generating 1/1\n",
      "\n",
      "\n",
      "Done.\n",
      "\n",
      "{| ████████████████ 19000/19200 | Batch Size: 2 | Gen Rate: 1.5kHz | }float64\n",
      "\n",
      "Saved output as data_wav\\Fake\\fake14.wav\n",
      "\n",
      "\n",
      "\n",
      "| Generating 1/1\n",
      "\n",
      "\n",
      "Done.\n",
      "\n",
      "{| ████████████████ 28500/28800 | Batch Size: 3 | Gen Rate: 2.1kHz | }float64\n",
      "\n",
      "Saved output as data_wav\\Fake\\fake15.wav\n",
      "\n",
      "\n"
     ]
    },
    {
     "name": "stderr",
     "output_type": "stream",
     "text": [
      "C:\\Users\\patel\\AI Resedency Prog\\VoiceCloning\\Real-Time-Voice-Cloning-master\\encoder\\audio.py:58: FutureWarning: Pass y=[0.0000000e+00 0.0000000e+00 0.0000000e+00 ... 3.5816927e-05 2.7706568e-05\n",
      " 0.0000000e+00], sr=16000 as keyword args. From version 0.10 passing these as positional arguments will result in an error\n",
      "  frames = librosa.feature.melspectrogram(\n"
     ]
    },
    {
     "name": "stdout",
     "output_type": "stream",
     "text": [
      "\n",
      "| Generating 1/1\n",
      "\n",
      "\n",
      "Done.\n",
      "\n",
      "{| ████████████████ 38000/38400 | Batch Size: 4 | Gen Rate: 2.5kHz | }float64\n",
      "\n",
      "Saved output as data_wav\\Fake\\fake16.wav\n",
      "\n",
      "\n"
     ]
    },
    {
     "name": "stderr",
     "output_type": "stream",
     "text": [
      "C:\\Users\\patel\\AI Resedency Prog\\VoiceCloning\\Real-Time-Voice-Cloning-master\\encoder\\audio.py:58: FutureWarning: Pass y=[ 0.00000000e+00  0.00000000e+00  0.00000000e+00 ... -1.08944205e-05\n",
      " -3.55703341e-05  0.00000000e+00], sr=16000 as keyword args. From version 0.10 passing these as positional arguments will result in an error\n",
      "  frames = librosa.feature.melspectrogram(\n"
     ]
    },
    {
     "name": "stdout",
     "output_type": "stream",
     "text": [
      "\n",
      "| Generating 1/1\n",
      "\n",
      "\n",
      "Done.\n",
      "\n",
      "{| ████████████████ 47500/48000 | Batch Size: 5 | Gen Rate: 3.3kHz | }float64\n",
      "\n",
      "Saved output as data_wav\\Fake\\fake17.wav\n",
      "\n",
      "\n",
      "Error  : \n"
     ]
    },
    {
     "name": "stderr",
     "output_type": "stream",
     "text": [
      "C:\\Users\\patel\\AI Resedency Prog\\VoiceCloning\\Real-Time-Voice-Cloning-master\\encoder\\audio.py:58: FutureWarning: Pass y=[ 0.0000000e+00  0.0000000e+00  0.0000000e+00 ...  3.7279316e-12\n",
      " -1.5153326e-12  0.0000000e+00], sr=16000 as keyword args. From version 0.10 passing these as positional arguments will result in an error\n",
      "  frames = librosa.feature.melspectrogram(\n"
     ]
    },
    {
     "name": "stdout",
     "output_type": "stream",
     "text": [
      "Caught exception: AttributeError(\"'NoneType' object has no attribute 'strip'\")\n"
     ]
    },
    {
     "name": "stderr",
     "output_type": "stream",
     "text": [
      "C:\\Users\\patel\\AI Resedency Prog\\VoiceCloning\\Real-Time-Voice-Cloning-master\\encoder\\audio.py:58: FutureWarning: Pass y=[ 0.0000000e+00  0.0000000e+00  0.0000000e+00 ... -9.2782943e-17\n",
      " -3.3720173e-17  0.0000000e+00], sr=16000 as keyword args. From version 0.10 passing these as positional arguments will result in an error\n",
      "  frames = librosa.feature.melspectrogram(\n"
     ]
    },
    {
     "name": "stdout",
     "output_type": "stream",
     "text": [
      "\n",
      "| Generating 1/1\n",
      "\n",
      "\n",
      "Done.\n",
      "\n",
      "{| ████████████████ 123500/124800 | Batch Size: 13 | Gen Rate: 5.8kHz | }float64\n",
      "\n",
      "Saved output as data_wav\\Fake\\fake19.wav\n",
      "\n",
      "\n"
     ]
    },
    {
     "name": "stderr",
     "output_type": "stream",
     "text": [
      "C:\\Users\\patel\\AI Resedency Prog\\VoiceCloning\\Real-Time-Voice-Cloning-master\\encoder\\audio.py:58: FutureWarning: Pass y=[-1.31684035e-20  1.09707672e-19 -3.12621771e-19 ...  0.00000000e+00\n",
      "  0.00000000e+00  0.00000000e+00], sr=16000 as keyword args. From version 0.10 passing these as positional arguments will result in an error\n",
      "  frames = librosa.feature.melspectrogram(\n"
     ]
    },
    {
     "name": "stdout",
     "output_type": "stream",
     "text": [
      "\n",
      "| Generating 1/1\n",
      "\n",
      "\n",
      "Done.\n",
      "\n",
      "{| ████████████████ 57000/57600 | Batch Size: 6 | Gen Rate: 3.4kHz | }float64\n",
      "\n",
      "Saved output as data_wav\\Fake\\fake20.wav\n",
      "\n",
      "\n",
      "\n",
      "| Generating 1/1\n",
      "\n",
      "\n",
      "Done.\n",
      "\n",
      "{| ████████████████ 19000/19200 | Batch Size: 2 | Gen Rate: 1.5kHz | }float64\n",
      "\n",
      "Saved output as data_wav\\Fake\\fake21.wav\n",
      "\n",
      "\n"
     ]
    },
    {
     "name": "stderr",
     "output_type": "stream",
     "text": [
      "C:\\Users\\patel\\AI Resedency Prog\\VoiceCloning\\Real-Time-Voice-Cloning-master\\encoder\\audio.py:58: FutureWarning: Pass y=[ 0.0000000e+00  0.0000000e+00  0.0000000e+00 ... -2.0537443e-07\n",
      "  2.9872001e-07  0.0000000e+00], sr=16000 as keyword args. From version 0.10 passing these as positional arguments will result in an error\n",
      "  frames = librosa.feature.melspectrogram(\n"
     ]
    },
    {
     "name": "stdout",
     "output_type": "stream",
     "text": [
      "\n",
      "| Generating 1/1\n",
      "\n",
      "\n",
      "Done.\n",
      "\n",
      "{| ████████████████ 19000/19200 | Batch Size: 2 | Gen Rate: 1.4kHz | }float64\n",
      "\n",
      "Saved output as data_wav\\Fake\\fake22.wav\n",
      "\n",
      "\n",
      "\n",
      "| Generating 1/1\n",
      "\n",
      "\n",
      "Done.\n",
      "\n",
      "{| ████████████████ 19000/19200 | Batch Size: 2 | Gen Rate: 1.3kHz | }float64\n",
      "\n",
      "Saved output as data_wav\\Fake\\fake23.wav\n",
      "\n",
      "\n"
     ]
    },
    {
     "name": "stderr",
     "output_type": "stream",
     "text": [
      "C:\\Users\\patel\\AI Resedency Prog\\VoiceCloning\\Real-Time-Voice-Cloning-master\\encoder\\audio.py:58: FutureWarning: Pass y=[ 0.0000000e+00  0.0000000e+00  0.0000000e+00 ...  1.8336405e-07\n",
      " -2.1089463e-07  0.0000000e+00], sr=16000 as keyword args. From version 0.10 passing these as positional arguments will result in an error\n",
      "  frames = librosa.feature.melspectrogram(\n"
     ]
    },
    {
     "name": "stdout",
     "output_type": "stream",
     "text": [
      "\n",
      "| Generating 1/1\n",
      "\n",
      "\n",
      "Done.\n",
      "\n",
      "{| ████████████████ 47500/48000 | Batch Size: 5 | Gen Rate: 2.8kHz | }float64\n",
      "\n",
      "Saved output as data_wav\\Fake\\fake24.wav\n",
      "\n",
      "\n",
      "\n",
      "| Generating 1/1\n",
      "\n",
      "\n",
      "Done.\n",
      "\n",
      "{| ████████████████ 19000/19200 | Batch Size: 2 | Gen Rate: 1.2kHz | }float64\n",
      "\n",
      "Saved output as data_wav\\Fake\\fake25.wav\n",
      "\n",
      "\n",
      "\n",
      "| Generating 1/1\n",
      "\n",
      "\n",
      "Done.\n",
      "\n",
      "{| ████████████████ 47500/48000 | Batch Size: 5 | Gen Rate: 2.8kHz | }float64\n",
      "\n",
      "Saved output as data_wav\\Fake\\fake26.wav\n",
      "\n",
      "\n"
     ]
    },
    {
     "name": "stderr",
     "output_type": "stream",
     "text": [
      "C:\\Users\\patel\\AI Resedency Prog\\VoiceCloning\\Real-Time-Voice-Cloning-master\\encoder\\audio.py:58: FutureWarning: Pass y=[ 0.0000000e+00  0.0000000e+00  0.0000000e+00 ... -7.6268229e-08\n",
      "  1.1225197e-08  0.0000000e+00], sr=16000 as keyword args. From version 0.10 passing these as positional arguments will result in an error\n",
      "  frames = librosa.feature.melspectrogram(\n"
     ]
    },
    {
     "name": "stdout",
     "output_type": "stream",
     "text": [
      "\n",
      "| Generating 1/1\n",
      "\n",
      "\n",
      "Done.\n",
      "\n",
      "{| ████████████████ 47500/48000 | Batch Size: 5 | Gen Rate: 2.9kHz | }float64\n",
      "\n",
      "Saved output as data_wav\\Fake\\fake27.wav\n",
      "\n",
      "\n"
     ]
    },
    {
     "name": "stderr",
     "output_type": "stream",
     "text": [
      "C:\\Users\\patel\\AI Resedency Prog\\VoiceCloning\\Real-Time-Voice-Cloning-master\\encoder\\audio.py:58: FutureWarning: Pass y=[ 0.0000000e+00  0.0000000e+00  0.0000000e+00 ...  1.0242412e-06\n",
      " -9.9037231e-07  0.0000000e+00], sr=16000 as keyword args. From version 0.10 passing these as positional arguments will result in an error\n",
      "  frames = librosa.feature.melspectrogram(\n"
     ]
    },
    {
     "name": "stdout",
     "output_type": "stream",
     "text": [
      "\n",
      "| Generating 1/1\n",
      "\n",
      "\n",
      "Done.\n",
      "\n",
      "{| ████████████████ 47500/48000 | Batch Size: 5 | Gen Rate: 3.0kHz | }float64\n",
      "\n",
      "Saved output as data_wav\\Fake\\fake28.wav\n",
      "\n",
      "\n",
      "\n",
      "| Generating 1/1\n",
      "\n",
      "\n",
      "Done.\n",
      "\n",
      "{| ████████████████ 28500/28800 | Batch Size: 3 | Gen Rate: 2.1kHz | }float64\n",
      "\n",
      "Saved output as data_wav\\Fake\\fake29.wav\n",
      "\n",
      "\n"
     ]
    },
    {
     "name": "stderr",
     "output_type": "stream",
     "text": [
      "C:\\Users\\patel\\AI Resedency Prog\\VoiceCloning\\Real-Time-Voice-Cloning-master\\encoder\\audio.py:58: FutureWarning: Pass y=[0.0000000e+00 0.0000000e+00 0.0000000e+00 ... 1.4230729e-05 1.1052735e-05\n",
      " 0.0000000e+00], sr=16000 as keyword args. From version 0.10 passing these as positional arguments will result in an error\n",
      "  frames = librosa.feature.melspectrogram(\n"
     ]
    },
    {
     "name": "stdout",
     "output_type": "stream",
     "text": [
      "\n",
      "| Generating 1/1\n",
      "\n",
      "\n",
      "Done.\n",
      "\n",
      "{| ████████████████ 28500/28800 | Batch Size: 3 | Gen Rate: 1.9kHz | }float64\n",
      "\n",
      "Saved output as data_wav\\Fake\\fake30.wav\n",
      "\n",
      "\n",
      "\n",
      "| Generating 1/1\n",
      "\n",
      "\n",
      "Done.\n",
      "\n",
      "{| ████████████████ 38000/38400 | Batch Size: 4 | Gen Rate: 2.7kHz | }float64\n",
      "\n",
      "Saved output as data_wav\\Fake\\fake31.wav\n",
      "\n",
      "\n",
      "\n",
      "| Generating 1/1\n",
      "\n",
      "\n",
      "Done.\n",
      "\n",
      "{| ████████████████ 38000/38400 | Batch Size: 4 | Gen Rate: 2.4kHz | }float64\n",
      "\n",
      "Saved output as data_wav\\Fake\\fake32.wav\n",
      "\n",
      "\n",
      "\n",
      "| Generating 1/1\n",
      "\n",
      "\n",
      "Done.\n",
      "\n",
      "{| ████████████████ 38000/38400 | Batch Size: 4 | Gen Rate: 2.3kHz | }float64\n",
      "\n",
      "Saved output as data_wav\\Fake\\fake33.wav\n",
      "\n",
      "\n",
      "\n",
      "| Generating 1/1\n",
      "\n",
      "\n",
      "Done.\n",
      "\n",
      "{| ████████████████ 28500/28800 | Batch Size: 3 | Gen Rate: 1.9kHz | }float64\n",
      "\n",
      "Saved output as data_wav\\Fake\\fake34.wav\n",
      "\n",
      "\n"
     ]
    },
    {
     "name": "stderr",
     "output_type": "stream",
     "text": [
      "C:\\Users\\patel\\AI Resedency Prog\\VoiceCloning\\Real-Time-Voice-Cloning-master\\encoder\\audio.py:58: FutureWarning: Pass y=[ 0.0000000e+00  0.0000000e+00  0.0000000e+00 ... -8.0210404e-05\n",
      "  1.6951283e-04  0.0000000e+00], sr=16000 as keyword args. From version 0.10 passing these as positional arguments will result in an error\n",
      "  frames = librosa.feature.melspectrogram(\n"
     ]
    },
    {
     "name": "stdout",
     "output_type": "stream",
     "text": [
      "\n",
      "| Generating 1/1\n",
      "\n",
      "\n",
      "Done.\n",
      "\n",
      "{| ████████████████ 38000/38400 | Batch Size: 4 | Gen Rate: 2.7kHz | }float64\n",
      "\n",
      "Saved output as data_wav\\Fake\\fake35.wav\n",
      "\n",
      "\n",
      "Error  : \n"
     ]
    },
    {
     "name": "stderr",
     "output_type": "stream",
     "text": [
      "C:\\Users\\patel\\AI Resedency Prog\\VoiceCloning\\Real-Time-Voice-Cloning-master\\encoder\\audio.py:58: FutureWarning: Pass y=[ 0.0000000e+00  0.0000000e+00  0.0000000e+00 ... -4.7753642e-06\n",
      " -1.3172998e-05  0.0000000e+00], sr=16000 as keyword args. From version 0.10 passing these as positional arguments will result in an error\n",
      "  frames = librosa.feature.melspectrogram(\n"
     ]
    },
    {
     "name": "stdout",
     "output_type": "stream",
     "text": [
      "Caught exception: AttributeError(\"'NoneType' object has no attribute 'strip'\")\n",
      "\n",
      "| Generating 1/1\n",
      "\n",
      "\n",
      "Done.\n",
      "\n",
      "{| ████████████████ 38000/38400 | Batch Size: 4 | Gen Rate: 2.8kHz | }float64\n",
      "\n",
      "Saved output as data_wav\\Fake\\fake37.wav\n",
      "\n",
      "\n",
      "\n",
      "| Generating 1/1\n",
      "\n",
      "\n",
      "Done.\n",
      "\n",
      "{| ████████████████ 57000/57600 | Batch Size: 6 | Gen Rate: 3.7kHz | }float64\n",
      "\n",
      "Saved output as data_wav\\Fake\\fake38.wav\n",
      "\n",
      "\n",
      "\n",
      "| Generating 1/1\n",
      "\n",
      "\n",
      "Done.\n",
      "\n",
      "{| ████████████████ 47500/48000 | Batch Size: 5 | Gen Rate: 3.3kHz | }float64\n",
      "\n",
      "Saved output as data_wav\\Fake\\fake39.wav\n",
      "\n",
      "\n",
      "\n",
      "| Generating 1/1\n",
      "\n",
      "\n",
      "Done.\n",
      "\n",
      "{| ████████████████ 57000/57600 | Batch Size: 6 | Gen Rate: 3.8kHz | }float64\n",
      "\n",
      "Saved output as data_wav\\Fake\\fake40.wav\n",
      "\n",
      "\n",
      "\n",
      "| Generating 1/1\n",
      "\n",
      "\n",
      "Done.\n",
      "\n",
      "{| ████████████████ 28500/28800 | Batch Size: 3 | Gen Rate: 2.1kHz | }float64\n",
      "\n",
      "Saved output as data_wav\\Fake\\fake41.wav\n",
      "\n",
      "\n"
     ]
    },
    {
     "name": "stderr",
     "output_type": "stream",
     "text": [
      "C:\\Users\\patel\\AI Resedency Prog\\VoiceCloning\\Real-Time-Voice-Cloning-master\\encoder\\audio.py:58: FutureWarning: Pass y=[ 0.0000000e+00  0.0000000e+00  0.0000000e+00 ... -4.1442027e-07\n",
      "  3.2143981e-07  0.0000000e+00], sr=16000 as keyword args. From version 0.10 passing these as positional arguments will result in an error\n",
      "  frames = librosa.feature.melspectrogram(\n"
     ]
    },
    {
     "name": "stdout",
     "output_type": "stream",
     "text": [
      "\n",
      "| Generating 1/1\n",
      "\n",
      "\n",
      "Done.\n",
      "\n",
      "{| ████████████████ 104500/105600 | Batch Size: 11 | Gen Rate: 5.7kHz | }float64\n",
      "\n",
      "Saved output as data_wav\\Fake\\fake42.wav\n",
      "\n",
      "\n",
      "\n",
      "| Generating 1/1\n",
      "\n",
      "\n",
      "Done.\n",
      "\n",
      "{| ████████████████ 28500/28800 | Batch Size: 3 | Gen Rate: 2.2kHz | }float64\n",
      "\n",
      "Saved output as data_wav\\Fake\\fake43.wav\n",
      "\n",
      "\n",
      "Error  : \n",
      "Caught exception: AttributeError(\"'NoneType' object has no attribute 'strip'\")\n"
     ]
    },
    {
     "name": "stderr",
     "output_type": "stream",
     "text": [
      "C:\\Users\\patel\\AI Resedency Prog\\VoiceCloning\\Real-Time-Voice-Cloning-master\\encoder\\audio.py:58: FutureWarning: Pass y=[ 0.0000000e+00  0.0000000e+00  0.0000000e+00 ... -5.3443811e-15\n",
      "  1.0414222e-15  0.0000000e+00], sr=16000 as keyword args. From version 0.10 passing these as positional arguments will result in an error\n",
      "  frames = librosa.feature.melspectrogram(\n"
     ]
    },
    {
     "name": "stdout",
     "output_type": "stream",
     "text": [
      "\n",
      "| Generating 1/1\n",
      "\n",
      "\n",
      "Done.\n",
      "\n",
      "{| ████████████████ 57000/57600 | Batch Size: 6 | Gen Rate: 3.7kHz | }float64\n",
      "\n",
      "Saved output as data_wav\\Fake\\fake45.wav\n",
      "\n",
      "\n",
      "\n",
      "| Generating 1/1\n",
      "\n",
      "\n",
      "Done.\n",
      "\n",
      "{| ████████████████ 85500/86400 | Batch Size: 9 | Gen Rate: 4.8kHz | }float64\n",
      "\n",
      "Saved output as data_wav\\Fake\\fake46.wav\n",
      "\n",
      "\n",
      "\n",
      "| Generating 1/1\n",
      "\n",
      "\n",
      "Done.\n",
      "\n",
      "{| ████████████████ 28500/28800 | Batch Size: 3 | Gen Rate: 2.1kHz | }float64\n",
      "\n",
      "Saved output as data_wav\\Fake\\fake47.wav\n",
      "\n",
      "\n",
      "\n",
      "| Generating 1/1\n",
      "\n",
      "\n",
      "Done.\n",
      "\n",
      "{| ████████████████ 38000/38400 | Batch Size: 4 | Gen Rate: 2.6kHz | }float64\n",
      "\n",
      "Saved output as data_wav\\Fake\\fake48.wav\n",
      "\n",
      "\n"
     ]
    },
    {
     "name": "stderr",
     "output_type": "stream",
     "text": [
      "C:\\Users\\patel\\AI Resedency Prog\\VoiceCloning\\Real-Time-Voice-Cloning-master\\encoder\\audio.py:58: FutureWarning: Pass y=[ 0.0000000e+00  0.0000000e+00  0.0000000e+00 ... -3.1292438e-09\n",
      " -4.7536237e-09  0.0000000e+00], sr=16000 as keyword args. From version 0.10 passing these as positional arguments will result in an error\n",
      "  frames = librosa.feature.melspectrogram(\n"
     ]
    },
    {
     "name": "stdout",
     "output_type": "stream",
     "text": [
      "\n",
      "| Generating 1/1\n",
      "\n",
      "\n",
      "Done.\n",
      "\n",
      "{| ████████████████ 28500/28800 | Batch Size: 3 | Gen Rate: 2.1kHz | }float64\n",
      "\n",
      "Saved output as data_wav\\Fake\\fake49.wav\n",
      "\n",
      "\n",
      "\n",
      "| Generating 1/1\n",
      "\n",
      "\n",
      "Done.\n",
      "\n",
      "{| ████████████████ 19000/19200 | Batch Size: 2 | Gen Rate: 1.5kHz | }float64\n",
      "\n",
      "Saved output as data_wav\\Fake\\fake50.wav\n",
      "\n",
      "\n",
      "\n",
      "| Generating 1/1\n",
      "\n",
      "\n",
      "Done.\n",
      "\n",
      "{| ████████████████ 47500/48000 | Batch Size: 5 | Gen Rate: 3.2kHz | }float64\n",
      "\n",
      "Saved output as data_wav\\Fake\\fake51.wav\n",
      "\n",
      "\n",
      "\n",
      "| Generating 1/1\n",
      "\n",
      "\n",
      "Done.\n",
      "\n",
      "{| ████████████████ 19000/19200 | Batch Size: 2 | Gen Rate: 1.5kHz | }float64\n",
      "\n",
      "Saved output as data_wav\\Fake\\fake52.wav\n",
      "\n",
      "\n",
      "Error  : \n",
      "Caught exception: AttributeError(\"'NoneType' object has no attribute 'strip'\")\n",
      "\n",
      "| Generating 1/1\n",
      "\n",
      "\n",
      "Done.\n",
      "\n",
      "{| ████████████████ 47500/48000 | Batch Size: 5 | Gen Rate: 3.2kHz | }float64\n",
      "\n",
      "Saved output as data_wav\\Fake\\fake54.wav\n",
      "\n",
      "\n",
      "\n",
      "| Generating 1/1\n",
      "\n",
      "\n",
      "Done.\n",
      "\n",
      "{| ████████████████ 28500/28800 | Batch Size: 3 | Gen Rate: 2.1kHz | }float64\n",
      "\n",
      "Saved output as data_wav\\Fake\\fake55.wav\n",
      "\n",
      "\n",
      "\n",
      "| Generating 1/1\n",
      "\n",
      "\n",
      "Done.\n",
      "\n",
      "{| ████████████████ 38000/38400 | Batch Size: 4 | Gen Rate: 2.7kHz | }float64\n",
      "\n",
      "Saved output as data_wav\\Fake\\fake56.wav\n",
      "\n",
      "\n",
      "\n",
      "| Generating 1/1\n",
      "\n",
      "\n",
      "Done.\n",
      "\n",
      "{| ████████████████ 47500/48000 | Batch Size: 5 | Gen Rate: 3.2kHz | }float64\n",
      "\n",
      "Saved output as data_wav\\Fake\\fake57.wav\n",
      "\n",
      "\n",
      "\n",
      "| Generating 1/1\n",
      "\n",
      "\n",
      "Done.\n",
      "\n",
      "{| ████████████████ 38000/38400 | Batch Size: 4 | Gen Rate: 2.7kHz | }float64\n",
      "\n",
      "Saved output as data_wav\\Fake\\fake58.wav\n",
      "\n",
      "\n",
      "\n",
      "| Generating 1/1\n",
      "\n",
      "\n",
      "Done.\n",
      "\n",
      "{| ████████████████ 66500/67200 | Batch Size: 7 | Gen Rate: 3.8kHz | }float64\n",
      "\n",
      "Saved output as data_wav\\Fake\\fake59.wav\n",
      "\n",
      "\n",
      "Error  : \n"
     ]
    },
    {
     "name": "stderr",
     "output_type": "stream",
     "text": [
      "C:\\Users\\patel\\AI Resedency Prog\\VoiceCloning\\Real-Time-Voice-Cloning-master\\encoder\\audio.py:58: FutureWarning: Pass y=[ 0.0000000e+00  0.0000000e+00  0.0000000e+00 ...  1.0857735e-05\n",
      " -3.8600060e-06  0.0000000e+00], sr=16000 as keyword args. From version 0.10 passing these as positional arguments will result in an error\n",
      "  frames = librosa.feature.melspectrogram(\n"
     ]
    },
    {
     "name": "stdout",
     "output_type": "stream",
     "text": [
      "Caught exception: AttributeError(\"'NoneType' object has no attribute 'strip'\")\n",
      "\n",
      "| Generating 1/1\n",
      "\n",
      "\n",
      "Done.\n",
      "\n",
      "{| ████████████████ 28500/28800 | Batch Size: 3 | Gen Rate: 2.1kHz | }float64\n",
      "\n",
      "Saved output as data_wav\\Fake\\fake61.wav\n",
      "\n",
      "\n",
      "\n",
      "| Generating 1/1\n",
      "\n",
      "\n",
      "Done.\n",
      "\n",
      "{| ████████████████ 28500/28800 | Batch Size: 3 | Gen Rate: 2.1kHz | }float64\n",
      "\n",
      "Saved output as data_wav\\Fake\\fake62.wav\n",
      "\n",
      "\n",
      "Error  : \n",
      "Caught exception: AttributeError(\"'NoneType' object has no attribute 'strip'\")\n",
      "\n",
      "| Generating 1/1\n",
      "\n",
      "\n",
      "Done.\n",
      "\n",
      "{| ████████████████ 38000/38400 | Batch Size: 4 | Gen Rate: 2.7kHz | }float64\n",
      "\n",
      "Saved output as data_wav\\Fake\\fake64.wav\n",
      "\n",
      "\n",
      "\n",
      "| Generating 1/1\n",
      "\n",
      "\n",
      "Done.\n",
      "\n",
      "{| ████████████████ 47500/48000 | Batch Size: 5 | Gen Rate: 3.2kHz | }float64\n",
      "\n",
      "Saved output as data_wav\\Fake\\fake65.wav\n",
      "\n",
      "\n"
     ]
    },
    {
     "name": "stderr",
     "output_type": "stream",
     "text": [
      "C:\\Users\\patel\\AI Resedency Prog\\VoiceCloning\\Real-Time-Voice-Cloning-master\\encoder\\audio.py:58: FutureWarning: Pass y=[ 0.0000000e+00  0.0000000e+00  0.0000000e+00 ... -1.5479152e-08\n",
      "  1.3718998e-08  0.0000000e+00], sr=16000 as keyword args. From version 0.10 passing these as positional arguments will result in an error\n",
      "  frames = librosa.feature.melspectrogram(\n"
     ]
    },
    {
     "name": "stdout",
     "output_type": "stream",
     "text": [
      "\n",
      "| Generating 1/1\n",
      "\n",
      "\n",
      "Done.\n",
      "\n",
      "{| ████████████████ 85500/86400 | Batch Size: 9 | Gen Rate: 4.8kHz | }float64\n",
      "\n",
      "Saved output as data_wav\\Fake\\fake66.wav\n",
      "\n",
      "\n",
      "\n",
      "| Generating 1/1\n",
      "\n",
      "\n",
      "Done.\n",
      "\n",
      "{| ████████████████ 19000/19200 | Batch Size: 2 | Gen Rate: 1.5kHz | }float64\n",
      "\n",
      "Saved output as data_wav\\Fake\\fake67.wav\n",
      "\n",
      "\n",
      "\n",
      "| Generating 1/1\n",
      "\n",
      "\n",
      "Done.\n",
      "\n",
      "{| ████████████████ 47500/48000 | Batch Size: 5 | Gen Rate: 3.2kHz | }float64\n",
      "\n",
      "Saved output as data_wav\\Fake\\fake68.wav\n",
      "\n",
      "\n"
     ]
    },
    {
     "name": "stderr",
     "output_type": "stream",
     "text": [
      "C:\\Users\\patel\\AI Resedency Prog\\VoiceCloning\\Real-Time-Voice-Cloning-master\\encoder\\audio.py:58: FutureWarning: Pass y=[ 0.          0.          0.         ... -0.00054548 -0.00035172\n",
      "  0.        ], sr=16000 as keyword args. From version 0.10 passing these as positional arguments will result in an error\n",
      "  frames = librosa.feature.melspectrogram(\n"
     ]
    },
    {
     "name": "stdout",
     "output_type": "stream",
     "text": [
      "\n",
      "| Generating 1/1\n",
      "\n",
      "\n",
      "Done.\n",
      "\n",
      "{| ████████████████ 19000/19200 | Batch Size: 2 | Gen Rate: 1.4kHz | }float64\n",
      "\n",
      "Saved output as data_wav\\Fake\\fake69.wav\n",
      "\n",
      "\n",
      "\n",
      "| Generating 1/1\n",
      "\n",
      "\n",
      "Done.\n",
      "\n",
      "{| ████████████████ 19000/19200 | Batch Size: 2 | Gen Rate: 1.5kHz | }float64\n",
      "\n",
      "Saved output as data_wav\\Fake\\fake70.wav\n",
      "\n",
      "\n"
     ]
    },
    {
     "name": "stderr",
     "output_type": "stream",
     "text": [
      "C:\\Users\\patel\\AI Resedency Prog\\VoiceCloning\\Real-Time-Voice-Cloning-master\\encoder\\audio.py:58: FutureWarning: Pass y=[ 0.0000000e+00  0.0000000e+00  0.0000000e+00 ...  1.7044957e-06\n",
      " -8.7829818e-07  0.0000000e+00], sr=16000 as keyword args. From version 0.10 passing these as positional arguments will result in an error\n",
      "  frames = librosa.feature.melspectrogram(\n"
     ]
    },
    {
     "name": "stdout",
     "output_type": "stream",
     "text": [
      "\n",
      "| Generating 1/1\n",
      "\n",
      "\n",
      "Done.\n",
      "\n",
      "{| ████████████████ 19000/19200 | Batch Size: 2 | Gen Rate: 1.4kHz | }float64\n",
      "\n",
      "Saved output as data_wav\\Fake\\fake71.wav\n",
      "\n",
      "\n"
     ]
    },
    {
     "name": "stderr",
     "output_type": "stream",
     "text": [
      "C:\\Users\\patel\\AI Resedency Prog\\VoiceCloning\\Real-Time-Voice-Cloning-master\\encoder\\audio.py:58: FutureWarning: Pass y=[ 0.0000000e+00  0.0000000e+00  0.0000000e+00 ...  5.2981704e-16\n",
      " -1.7741750e-16  0.0000000e+00], sr=16000 as keyword args. From version 0.10 passing these as positional arguments will result in an error\n",
      "  frames = librosa.feature.melspectrogram(\n"
     ]
    },
    {
     "name": "stdout",
     "output_type": "stream",
     "text": [
      "\n",
      "| Generating 1/1\n",
      "\n",
      "\n",
      "Done.\n",
      "\n",
      "{| ████████████████ 57000/57600 | Batch Size: 6 | Gen Rate: 3.5kHz | }float64\n",
      "\n",
      "Saved output as data_wav\\Fake\\fake72.wav\n",
      "\n",
      "\n",
      "\n",
      "| Generating 1/1\n",
      "\n",
      "\n",
      "Done.\n",
      "\n",
      "{| ████████████████ 76000/76800 | Batch Size: 8 | Gen Rate: 4.3kHz | }float64\n",
      "\n",
      "Saved output as data_wav\\Fake\\fake73.wav\n",
      "\n",
      "\n"
     ]
    },
    {
     "name": "stderr",
     "output_type": "stream",
     "text": [
      "C:\\Users\\patel\\AI Resedency Prog\\VoiceCloning\\Real-Time-Voice-Cloning-master\\encoder\\audio.py:58: FutureWarning: Pass y=[ 0.0000000e+00  0.0000000e+00  0.0000000e+00 ... -2.2599437e-04\n",
      "  2.5899100e-05  0.0000000e+00], sr=16000 as keyword args. From version 0.10 passing these as positional arguments will result in an error\n",
      "  frames = librosa.feature.melspectrogram(\n"
     ]
    },
    {
     "name": "stdout",
     "output_type": "stream",
     "text": [
      "\n",
      "| Generating 1/1\n",
      "\n",
      "\n",
      "Done.\n",
      "\n",
      "{| ████████████████ 104500/105600 | Batch Size: 11 | Gen Rate: 5.3kHz | }float64\n",
      "\n",
      "Saved output as data_wav\\Fake\\fake74.wav\n",
      "\n",
      "\n",
      "\n",
      "| Generating 1/1\n",
      "\n",
      "\n",
      "Done.\n",
      "\n",
      "{| ████████████████ 28500/28800 | Batch Size: 3 | Gen Rate: 1.9kHz | }float64\n",
      "\n",
      "Saved output as data_wav\\Fake\\fake75.wav\n",
      "\n",
      "\n",
      "\n",
      "| Generating 1/1\n",
      "\n",
      "\n",
      "Done.\n",
      "\n",
      "{| ████████████████ 95000/96000 | Batch Size: 10 | Gen Rate: 4.4kHz | }float64\n",
      "\n",
      "Saved output as data_wav\\Fake\\fake76.wav\n",
      "\n",
      "\n",
      "\n",
      "| Generating 1/1\n",
      "\n",
      "\n",
      "Done.\n",
      "\n",
      "{| ████████████████ 28500/28800 | Batch Size: 3 | Gen Rate: 2.0kHz | }float64\n",
      "\n",
      "Saved output as data_wav\\Fake\\fake77.wav\n",
      "\n",
      "\n"
     ]
    },
    {
     "name": "stderr",
     "output_type": "stream",
     "text": [
      "C:\\Users\\patel\\AI Resedency Prog\\VoiceCloning\\Real-Time-Voice-Cloning-master\\encoder\\audio.py:58: FutureWarning: Pass y=[ 0.000000e+00  0.000000e+00  0.000000e+00 ...  9.202882e-08 -7.212266e-08\n",
      "  0.000000e+00], sr=16000 as keyword args. From version 0.10 passing these as positional arguments will result in an error\n",
      "  frames = librosa.feature.melspectrogram(\n"
     ]
    },
    {
     "name": "stdout",
     "output_type": "stream",
     "text": [
      "\n",
      "| Generating 1/1\n",
      "\n",
      "\n",
      "Done.\n",
      "\n",
      "{| ████████████████ 28500/28800 | Batch Size: 3 | Gen Rate: 2.1kHz | }float64\n",
      "\n",
      "Saved output as data_wav\\Fake\\fake78.wav\n",
      "\n",
      "\n",
      "\n",
      "| Generating 1/1\n",
      "\n",
      "\n",
      "Done.\n",
      "\n",
      "{| ████████████████ 38000/38400 | Batch Size: 4 | Gen Rate: 2.5kHz | }float64\n",
      "\n",
      "Saved output as data_wav\\Fake\\fake79.wav\n",
      "\n",
      "\n"
     ]
    },
    {
     "name": "stderr",
     "output_type": "stream",
     "text": [
      "C:\\Users\\patel\\AI Resedency Prog\\VoiceCloning\\Real-Time-Voice-Cloning-master\\encoder\\audio.py:58: FutureWarning: Pass y=[ 9.9770422e-21 -8.3120026e-20  2.4270973e-19 ...  0.0000000e+00\n",
      "  0.0000000e+00  0.0000000e+00], sr=16000 as keyword args. From version 0.10 passing these as positional arguments will result in an error\n",
      "  frames = librosa.feature.melspectrogram(\n"
     ]
    },
    {
     "name": "stdout",
     "output_type": "stream",
     "text": [
      "\n",
      "| Generating 1/1\n",
      "\n",
      "\n",
      "Done.\n",
      "\n",
      "{| ████████████████ 28500/28800 | Batch Size: 3 | Gen Rate: 1.8kHz | }float64\n",
      "\n",
      "Saved output as data_wav\\Fake\\fake80.wav\n",
      "\n",
      "\n",
      "\n",
      "| Generating 1/1\n",
      "\n",
      "\n",
      "Done.\n",
      "\n",
      "{| ████████████████ 19000/19200 | Batch Size: 2 | Gen Rate: 1.4kHz | }float64\n",
      "\n",
      "Saved output as data_wav\\Fake\\fake81.wav\n",
      "\n",
      "\n"
     ]
    },
    {
     "name": "stderr",
     "output_type": "stream",
     "text": [
      "C:\\Users\\patel\\AI Resedency Prog\\VoiceCloning\\Real-Time-Voice-Cloning-master\\encoder\\audio.py:58: FutureWarning: Pass y=[ 0.0000000e+00  0.0000000e+00  0.0000000e+00 ... -6.4985505e-07\n",
      "  5.9801681e-07  0.0000000e+00], sr=16000 as keyword args. From version 0.10 passing these as positional arguments will result in an error\n",
      "  frames = librosa.feature.melspectrogram(\n"
     ]
    },
    {
     "name": "stdout",
     "output_type": "stream",
     "text": [
      "\n",
      "| Generating 1/1\n",
      "\n",
      "\n",
      "Done.\n",
      "\n",
      "{| ████████████████ 57000/57600 | Batch Size: 6 | Gen Rate: 3.3kHz | }float64\n",
      "\n",
      "Saved output as data_wav\\Fake\\fake82.wav\n",
      "\n",
      "\n",
      "\n",
      "| Generating 1/1\n",
      "\n",
      "\n",
      "Done.\n",
      "\n",
      "{| ████████████████ 28500/28800 | Batch Size: 3 | Gen Rate: 1.9kHz | }float64\n",
      "\n",
      "Saved output as data_wav\\Fake\\fake83.wav\n",
      "\n",
      "\n",
      "\n",
      "| Generating 1/1\n",
      "\n",
      "\n",
      "Done.\n",
      "\n",
      "{| ████████████████ 66500/67200 | Batch Size: 7 | Gen Rate: 3.9kHz | }float64\n",
      "\n",
      "Saved output as data_wav\\Fake\\fake84.wav\n",
      "\n",
      "\n"
     ]
    },
    {
     "name": "stderr",
     "output_type": "stream",
     "text": [
      "C:\\Users\\patel\\AI Resedency Prog\\VoiceCloning\\Real-Time-Voice-Cloning-master\\encoder\\audio.py:58: FutureWarning: Pass y=[ 0.0000000e+00  0.0000000e+00  0.0000000e+00 ...  1.0823328e-06\n",
      " -1.0293950e-06  0.0000000e+00], sr=16000 as keyword args. From version 0.10 passing these as positional arguments will result in an error\n",
      "  frames = librosa.feature.melspectrogram(\n"
     ]
    },
    {
     "name": "stdout",
     "output_type": "stream",
     "text": [
      "\n",
      "| Generating 1/1\n",
      "\n",
      "\n",
      "Done.\n",
      "\n",
      "{| ████████████████ 104500/105600 | Batch Size: 11 | Gen Rate: 5.3kHz | }float64\n",
      "\n",
      "Saved output as data_wav\\Fake\\fake85.wav\n",
      "\n",
      "\n"
     ]
    },
    {
     "name": "stderr",
     "output_type": "stream",
     "text": [
      "C:\\Users\\patel\\AI Resedency Prog\\VoiceCloning\\Real-Time-Voice-Cloning-master\\encoder\\audio.py:58: FutureWarning: Pass y=[ 0.0000000e+00  0.0000000e+00  0.0000000e+00 ...  2.1353128e-07\n",
      " -3.8228086e-07  0.0000000e+00], sr=16000 as keyword args. From version 0.10 passing these as positional arguments will result in an error\n",
      "  frames = librosa.feature.melspectrogram(\n"
     ]
    },
    {
     "name": "stdout",
     "output_type": "stream",
     "text": [
      "\n",
      "| Generating 1/1\n",
      "\n",
      "\n",
      "Done.\n",
      "\n",
      "{| ████████████████ 38000/38400 | Batch Size: 4 | Gen Rate: 2.6kHz | }float64\n",
      "\n",
      "Saved output as data_wav\\Fake\\fake86.wav\n",
      "\n",
      "\n"
     ]
    },
    {
     "name": "stderr",
     "output_type": "stream",
     "text": [
      "C:\\Users\\patel\\AI Resedency Prog\\VoiceCloning\\Real-Time-Voice-Cloning-master\\encoder\\audio.py:58: FutureWarning: Pass y=[0.0000000e+00 0.0000000e+00 0.0000000e+00 ... 2.1013337e-05 1.3287494e-05\n",
      " 0.0000000e+00], sr=16000 as keyword args. From version 0.10 passing these as positional arguments will result in an error\n",
      "  frames = librosa.feature.melspectrogram(\n"
     ]
    },
    {
     "name": "stdout",
     "output_type": "stream",
     "text": [
      "\n",
      "| Generating 1/1\n",
      "\n",
      "\n",
      "Done.\n",
      "\n",
      "{| ████████████████ 38000/38400 | Batch Size: 4 | Gen Rate: 2.6kHz | }float64\n",
      "\n",
      "Saved output as data_wav\\Fake\\fake87.wav\n",
      "\n",
      "\n",
      "\n",
      "| Generating 1/1\n",
      "\n",
      "\n",
      "Done.\n",
      "\n",
      "{| ████████████████ 66500/67200 | Batch Size: 7 | Gen Rate: 3.9kHz | }float64\n",
      "\n",
      "Saved output as data_wav\\Fake\\fake88.wav\n",
      "\n",
      "\n"
     ]
    },
    {
     "name": "stderr",
     "output_type": "stream",
     "text": [
      "C:\\Users\\patel\\AI Resedency Prog\\VoiceCloning\\Real-Time-Voice-Cloning-master\\encoder\\audio.py:58: FutureWarning: Pass y=[ 0.000000e+00  0.000000e+00  0.000000e+00 ... -5.414915e-07 -1.831343e-05\n",
      "  0.000000e+00], sr=16000 as keyword args. From version 0.10 passing these as positional arguments will result in an error\n",
      "  frames = librosa.feature.melspectrogram(\n"
     ]
    },
    {
     "name": "stdout",
     "output_type": "stream",
     "text": [
      "\n",
      "| Generating 1/1\n",
      "\n",
      "\n",
      "Done.\n",
      "\n",
      "{| ████████████████ 66500/67200 | Batch Size: 7 | Gen Rate: 3.8kHz | }float64\n",
      "\n",
      "Saved output as data_wav\\Fake\\fake89.wav\n",
      "\n",
      "\n",
      "\n",
      "| Generating 1/1\n",
      "\n",
      "\n",
      "Done.\n",
      "\n",
      "{| ████████████████ 28500/28800 | Batch Size: 3 | Gen Rate: 1.9kHz | }float64\n",
      "\n",
      "Saved output as data_wav\\Fake\\fake90.wav\n",
      "\n",
      "\n",
      "\n",
      "| Generating 1/1\n",
      "\n",
      "\n",
      "Done.\n",
      "\n",
      "{| ████████████████ 19000/19200 | Batch Size: 2 | Gen Rate: 1.4kHz | }float64\n",
      "\n",
      "Saved output as data_wav\\Fake\\fake91.wav\n",
      "\n",
      "\n",
      "\n",
      "| Generating 1/1\n",
      "\n",
      "\n",
      "Done.\n",
      "\n",
      "{| ████████████████ 38000/38400 | Batch Size: 4 | Gen Rate: 2.3kHz | }float64\n",
      "\n",
      "Saved output as data_wav\\Fake\\fake92.wav\n",
      "\n",
      "\n"
     ]
    },
    {
     "name": "stderr",
     "output_type": "stream",
     "text": [
      "C:\\Users\\patel\\AI Resedency Prog\\VoiceCloning\\Real-Time-Voice-Cloning-master\\encoder\\audio.py:58: FutureWarning: Pass y=[ 0.0000000e+00  0.0000000e+00  0.0000000e+00 ... -1.3827726e-04\n",
      "  4.0304589e-05  0.0000000e+00], sr=16000 as keyword args. From version 0.10 passing these as positional arguments will result in an error\n",
      "  frames = librosa.feature.melspectrogram(\n"
     ]
    },
    {
     "name": "stdout",
     "output_type": "stream",
     "text": [
      "\n",
      "| Generating 1/1\n",
      "\n",
      "\n",
      "Done.\n",
      "\n",
      "{| ████████████████ 38000/38400 | Batch Size: 4 | Gen Rate: 2.6kHz | }float64\n",
      "\n",
      "Saved output as data_wav\\Fake\\fake93.wav\n",
      "\n",
      "\n",
      "Error  : \n",
      "Caught exception: AttributeError(\"'NoneType' object has no attribute 'strip'\")\n",
      "\n",
      "| Generating 1/1\n",
      "\n",
      "\n",
      "Done.\n",
      "\n",
      "{| ████████████████ 28500/28800 | Batch Size: 3 | Gen Rate: 2.1kHz | }float64\n",
      "\n",
      "Saved output as data_wav\\Fake\\fake95.wav\n",
      "\n",
      "\n",
      "\n",
      "| Generating 1/1\n",
      "\n",
      "\n",
      "Done.\n",
      "\n",
      "{| ████████████████ 66500/67200 | Batch Size: 7 | Gen Rate: 3.9kHz | }float64\n",
      "\n",
      "Saved output as data_wav\\Fake\\fake96.wav\n",
      "\n",
      "\n",
      "\n",
      "| Generating 1/1\n",
      "\n",
      "\n",
      "Done.\n",
      "\n",
      "{| ████████████████ 19000/19200 | Batch Size: 2 | Gen Rate: 1.4kHz | }float64\n",
      "\n",
      "Saved output as data_wav\\Fake\\fake97.wav\n",
      "\n",
      "\n",
      "Error  : \n"
     ]
    },
    {
     "name": "stderr",
     "output_type": "stream",
     "text": [
      "C:\\Users\\patel\\AI Resedency Prog\\VoiceCloning\\Real-Time-Voice-Cloning-master\\encoder\\audio.py:58: FutureWarning: Pass y=[ 0.0000000e+00  0.0000000e+00  0.0000000e+00 ...  2.5381593e-07\n",
      " -1.8512654e-07  0.0000000e+00], sr=16000 as keyword args. From version 0.10 passing these as positional arguments will result in an error\n",
      "  frames = librosa.feature.melspectrogram(\n"
     ]
    },
    {
     "name": "stdout",
     "output_type": "stream",
     "text": [
      "Caught exception: AttributeError(\"'NoneType' object has no attribute 'strip'\")\n"
     ]
    },
    {
     "name": "stderr",
     "output_type": "stream",
     "text": [
      "C:\\Users\\patel\\AI Resedency Prog\\VoiceCloning\\Real-Time-Voice-Cloning-master\\encoder\\audio.py:58: FutureWarning: Pass y=[ 0.0000000e+00  0.0000000e+00  0.0000000e+00 ... -4.9193213e-06\n",
      "  3.3720501e-06  0.0000000e+00], sr=16000 as keyword args. From version 0.10 passing these as positional arguments will result in an error\n",
      "  frames = librosa.feature.melspectrogram(\n"
     ]
    },
    {
     "name": "stdout",
     "output_type": "stream",
     "text": [
      "\n",
      "| Generating 1/1\n",
      "\n",
      "\n",
      "Done.\n",
      "\n",
      "{| ████████████████ 38000/38400 | Batch Size: 4 | Gen Rate: 2.4kHz | }float64\n",
      "\n",
      "Saved output as data_wav\\Fake\\fake99.wav\n",
      "\n",
      "\n",
      "\n",
      "| Generating 1/1\n",
      "\n",
      "\n",
      "Done.\n",
      "\n",
      "{| ████████████████ 38000/38400 | Batch Size: 4 | Gen Rate: 2.5kHz | }float64\n",
      "\n",
      "Saved output as data_wav\\Fake\\fake100.wav\n",
      "\n",
      "\n"
     ]
    },
    {
     "name": "stderr",
     "output_type": "stream",
     "text": [
      "C:\\Users\\patel\\AI Resedency Prog\\VoiceCloning\\Real-Time-Voice-Cloning-master\\encoder\\audio.py:58: FutureWarning: Pass y=[ 0.000000e+00  0.000000e+00  0.000000e+00 ... -8.684399e-16  7.541373e-16\n",
      "  0.000000e+00], sr=16000 as keyword args. From version 0.10 passing these as positional arguments will result in an error\n",
      "  frames = librosa.feature.melspectrogram(\n"
     ]
    },
    {
     "name": "stdout",
     "output_type": "stream",
     "text": [
      "\n",
      "| Generating 1/1\n",
      "\n",
      "\n",
      "Done.\n",
      "\n",
      "{| ████████████████ 76000/76800 | Batch Size: 8 | Gen Rate: 4.2kHz | }float64\n",
      "\n",
      "Saved output as data_wav\\Fake\\fake101.wav\n",
      "\n",
      "\n",
      "\n",
      "| Generating 1/1\n",
      "\n",
      "\n",
      "Done.\n",
      "\n",
      "{| ████████████████ 38000/38400 | Batch Size: 4 | Gen Rate: 2.5kHz | }float64\n",
      "\n",
      "Saved output as data_wav\\Fake\\fake102.wav\n",
      "\n",
      "\n",
      "\n",
      "| Generating 1/1\n",
      "\n",
      "\n",
      "Done.\n",
      "\n",
      "{| ████████████████ 133000/134400 | Batch Size: 14 | Gen Rate: 5.7kHz | }float64\n",
      "\n",
      "Saved output as data_wav\\Fake\\fake103.wav\n",
      "\n",
      "\n"
     ]
    },
    {
     "name": "stderr",
     "output_type": "stream",
     "text": [
      "C:\\Users\\patel\\AI Resedency Prog\\VoiceCloning\\Real-Time-Voice-Cloning-master\\encoder\\audio.py:58: FutureWarning: Pass y=[0.000000e+00 0.000000e+00 0.000000e+00 ... 6.512372e-07 1.036221e-07\n",
      " 0.000000e+00], sr=16000 as keyword args. From version 0.10 passing these as positional arguments will result in an error\n",
      "  frames = librosa.feature.melspectrogram(\n"
     ]
    },
    {
     "name": "stdout",
     "output_type": "stream",
     "text": [
      "\n",
      "| Generating 1/1\n",
      "\n",
      "\n",
      "Done.\n",
      "\n",
      "{| ████████████████ 28500/28800 | Batch Size: 3 | Gen Rate: 1.9kHz | }float64\n",
      "\n",
      "Saved output as data_wav\\Fake\\fake104.wav\n",
      "\n",
      "\n",
      "\n",
      "| Generating 1/1\n",
      "\n",
      "\n",
      "Done.\n",
      "\n",
      "{| ████████████████ 38000/38400 | Batch Size: 4 | Gen Rate: 2.5kHz | }float64\n",
      "\n",
      "Saved output as data_wav\\Fake\\fake105.wav\n",
      "\n",
      "\n"
     ]
    },
    {
     "name": "stderr",
     "output_type": "stream",
     "text": [
      "C:\\Users\\patel\\AI Resedency Prog\\VoiceCloning\\Real-Time-Voice-Cloning-master\\encoder\\audio.py:58: FutureWarning: Pass y=[ 0.0000000e+00  0.0000000e+00  0.0000000e+00 ... -3.3046561e-07\n",
      "  2.9814888e-07  0.0000000e+00], sr=16000 as keyword args. From version 0.10 passing these as positional arguments will result in an error\n",
      "  frames = librosa.feature.melspectrogram(\n"
     ]
    },
    {
     "name": "stdout",
     "output_type": "stream",
     "text": [
      "\n",
      "| Generating 1/1\n",
      "\n",
      "\n",
      "Done.\n",
      "\n",
      "{| ████████████████ 114000/115200 | Batch Size: 12 | Gen Rate: 5.4kHz | }float64\n",
      "\n",
      "Saved output as data_wav\\Fake\\fake106.wav\n",
      "\n",
      "\n"
     ]
    },
    {
     "name": "stderr",
     "output_type": "stream",
     "text": [
      "C:\\Users\\patel\\AI Resedency Prog\\VoiceCloning\\Real-Time-Voice-Cloning-master\\encoder\\audio.py:58: FutureWarning: Pass y=[ 0.0000000e+00  0.0000000e+00  0.0000000e+00 ...  5.4771385e-11\n",
      " -2.2526665e-11  0.0000000e+00], sr=16000 as keyword args. From version 0.10 passing these as positional arguments will result in an error\n",
      "  frames = librosa.feature.melspectrogram(\n"
     ]
    },
    {
     "name": "stdout",
     "output_type": "stream",
     "text": [
      "\n",
      "| Generating 1/1\n",
      "\n",
      "\n",
      "Done.\n",
      "\n",
      "{| ████████████████ 47500/48000 | Batch Size: 5 | Gen Rate: 2.8kHz | }float64\n",
      "\n",
      "Saved output as data_wav\\Fake\\fake107.wav\n",
      "\n",
      "\n"
     ]
    },
    {
     "name": "stderr",
     "output_type": "stream",
     "text": [
      "C:\\Users\\patel\\AI Resedency Prog\\VoiceCloning\\Real-Time-Voice-Cloning-master\\encoder\\audio.py:58: FutureWarning: Pass y=[ 0.0000000e+00  0.0000000e+00  0.0000000e+00 ...  2.4699653e-09\n",
      " -2.2820952e-09  0.0000000e+00], sr=16000 as keyword args. From version 0.10 passing these as positional arguments will result in an error\n",
      "  frames = librosa.feature.melspectrogram(\n"
     ]
    },
    {
     "name": "stdout",
     "output_type": "stream",
     "text": [
      "\n",
      "| Generating 1/1\n",
      "\n",
      "\n",
      "Done.\n",
      "\n",
      "{| ████████████████ 28500/28800 | Batch Size: 3 | Gen Rate: 2.0kHz | }float64\n",
      "\n",
      "Saved output as data_wav\\Fake\\fake108.wav\n",
      "\n",
      "\n",
      "\n",
      "| Generating 1/1\n",
      "\n",
      "\n",
      "Done.\n",
      "\n",
      "{| ████████████████ 47500/48000 | Batch Size: 5 | Gen Rate: 3.1kHz | }float64\n",
      "\n",
      "Saved output as data_wav\\Fake\\fake109.wav\n",
      "\n",
      "\n"
     ]
    },
    {
     "name": "stderr",
     "output_type": "stream",
     "text": [
      "C:\\Users\\patel\\AI Resedency Prog\\VoiceCloning\\Real-Time-Voice-Cloning-master\\encoder\\audio.py:58: FutureWarning: Pass y=[ 0.0000000e+00  0.0000000e+00  0.0000000e+00 ... -3.3317167e-06\n",
      "  3.2735936e-04  0.0000000e+00], sr=16000 as keyword args. From version 0.10 passing these as positional arguments will result in an error\n",
      "  frames = librosa.feature.melspectrogram(\n"
     ]
    },
    {
     "name": "stdout",
     "output_type": "stream",
     "text": [
      "\n",
      "| Generating 1/1\n",
      "\n",
      "\n",
      "Done.\n",
      "\n",
      "{| ████████████████ 19000/19200 | Batch Size: 2 | Gen Rate: 1.3kHz | }float64\n",
      "\n",
      "Saved output as data_wav\\Fake\\fake110.wav\n",
      "\n",
      "\n",
      "\n",
      "| Generating 1/1\n",
      "\n",
      "\n",
      "Done.\n",
      "\n",
      "{| ████████████████ 28500/28800 | Batch Size: 3 | Gen Rate: 2.0kHz | }float64\n",
      "\n",
      "Saved output as data_wav\\Fake\\fake111.wav\n",
      "\n",
      "\n"
     ]
    },
    {
     "name": "stderr",
     "output_type": "stream",
     "text": [
      "C:\\Users\\patel\\AI Resedency Prog\\VoiceCloning\\Real-Time-Voice-Cloning-master\\encoder\\audio.py:58: FutureWarning: Pass y=[ 0.0000000e+00  0.0000000e+00  0.0000000e+00 ... -2.7216063e-05\n",
      "  8.8879060e-06  0.0000000e+00], sr=16000 as keyword args. From version 0.10 passing these as positional arguments will result in an error\n",
      "  frames = librosa.feature.melspectrogram(\n"
     ]
    },
    {
     "name": "stdout",
     "output_type": "stream",
     "text": [
      "\n",
      "| Generating 1/1\n",
      "\n",
      "\n",
      "Done.\n",
      "\n",
      "{| ████████████████ 38000/38400 | Batch Size: 4 | Gen Rate: 2.5kHz | }float64\n",
      "\n",
      "Saved output as data_wav\\Fake\\fake112.wav\n",
      "\n",
      "\n"
     ]
    }
   ],
   "source": [
    "Text_folder_orig=glob.glob(Folder_orig+\"/*\")\n",
    "for i, path in enumerate(Text_folder_orig):\n",
    "    try:\n",
    "        orig_audio=Path(path)\n",
    "        if(i<len(Text_folder_orig)-1):\n",
    "            sample_audio=Path(Text_folder_orig[i+1])\n",
    "        else:\n",
    "            sample_audio=Path(Text_folder_orig[0])\n",
    "\n",
    "        dest_audio=Path(Folder_dest+\"\\\\fake%02d.wav\" % i)\n",
    "\n",
    "        voice_to_voice(orig_audio,sample_audio,dest_audio)\n",
    "        \n",
    "    except Exception as e:\n",
    "        print(\"Caught exception: %s\" % repr(e))"
   ]
  }
 ],
 "metadata": {
  "kernelspec": {
   "display_name": "Python 3 (ipykernel)",
   "language": "python",
   "name": "python3"
  },
  "language_info": {
   "codemirror_mode": {
    "name": "ipython",
    "version": 3
   },
   "file_extension": ".py",
   "mimetype": "text/x-python",
   "name": "python",
   "nbconvert_exporter": "python",
   "pygments_lexer": "ipython3",
   "version": "3.9.7"
  }
 },
 "nbformat": 4,
 "nbformat_minor": 5
}
